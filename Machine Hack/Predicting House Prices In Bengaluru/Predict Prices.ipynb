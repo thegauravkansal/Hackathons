{
 "cells": [
  {
   "cell_type": "code",
   "execution_count": 1,
   "metadata": {},
   "outputs": [],
   "source": [
    "import pandas as pd\n",
    "import numpy as np\n",
    "from sklearn.preprocessing import LabelEncoder, OneHotEncoder, Imputer\n",
    "import re\n",
    "import seaborn as sns\n",
    "from scipy.stats import norm\n",
    "from scipy import stats\n",
    "from scipy.stats import skew\n",
    "import matplotlib.pyplot as plt"
   ]
  },
  {
   "cell_type": "code",
   "execution_count": 2,
   "metadata": {},
   "outputs": [],
   "source": [
    "test_data = pd.read_csv('Predicting-House-Prices-In-Bengaluru-Test-Data.csv')\n",
    "train_data = pd.read_csv('Predicting-House-Prices-In-Bengaluru-Train-Data.csv')"
   ]
  },
  {
   "cell_type": "code",
   "execution_count": 3,
   "metadata": {},
   "outputs": [
    {
     "data": {
      "text/plain": [
       "area_type          0\n",
       "availability       0\n",
       "location           1\n",
       "size              16\n",
       "society         5502\n",
       "total_sqft         0\n",
       "bath              73\n",
       "balcony          609\n",
       "price              0\n",
       "dtype: int64"
      ]
     },
     "execution_count": 3,
     "metadata": {},
     "output_type": "execute_result"
    }
   ],
   "source": [
    "train_data.isnull().sum()"
   ]
  },
  {
   "cell_type": "code",
   "execution_count": 4,
   "metadata": {},
   "outputs": [],
   "source": [
    "train_data =train_data.dropna(subset=['location'])"
   ]
  },
  {
   "cell_type": "code",
   "execution_count": 5,
   "metadata": {},
   "outputs": [
    {
     "data": {
      "text/html": [
       "<div>\n",
       "<style scoped>\n",
       "    .dataframe tbody tr th:only-of-type {\n",
       "        vertical-align: middle;\n",
       "    }\n",
       "\n",
       "    .dataframe tbody tr th {\n",
       "        vertical-align: top;\n",
       "    }\n",
       "\n",
       "    .dataframe thead th {\n",
       "        text-align: right;\n",
       "    }\n",
       "</style>\n",
       "<table border=\"1\" class=\"dataframe\">\n",
       "  <thead>\n",
       "    <tr style=\"text-align: right;\">\n",
       "      <th></th>\n",
       "      <th>bath</th>\n",
       "      <th>balcony</th>\n",
       "      <th>price</th>\n",
       "    </tr>\n",
       "  </thead>\n",
       "  <tbody>\n",
       "    <tr>\n",
       "      <th>count</th>\n",
       "      <td>13246.000000</td>\n",
       "      <td>12710.000000</td>\n",
       "      <td>13319.000000</td>\n",
       "    </tr>\n",
       "    <tr>\n",
       "      <th>mean</th>\n",
       "      <td>2.692586</td>\n",
       "      <td>1.584343</td>\n",
       "      <td>112.567621</td>\n",
       "    </tr>\n",
       "    <tr>\n",
       "      <th>std</th>\n",
       "      <td>1.341506</td>\n",
       "      <td>0.817287</td>\n",
       "      <td>148.977089</td>\n",
       "    </tr>\n",
       "    <tr>\n",
       "      <th>min</th>\n",
       "      <td>1.000000</td>\n",
       "      <td>0.000000</td>\n",
       "      <td>8.000000</td>\n",
       "    </tr>\n",
       "    <tr>\n",
       "      <th>25%</th>\n",
       "      <td>2.000000</td>\n",
       "      <td>1.000000</td>\n",
       "      <td>50.000000</td>\n",
       "    </tr>\n",
       "    <tr>\n",
       "      <th>50%</th>\n",
       "      <td>2.000000</td>\n",
       "      <td>2.000000</td>\n",
       "      <td>72.000000</td>\n",
       "    </tr>\n",
       "    <tr>\n",
       "      <th>75%</th>\n",
       "      <td>3.000000</td>\n",
       "      <td>2.000000</td>\n",
       "      <td>120.000000</td>\n",
       "    </tr>\n",
       "    <tr>\n",
       "      <th>max</th>\n",
       "      <td>40.000000</td>\n",
       "      <td>3.000000</td>\n",
       "      <td>3600.000000</td>\n",
       "    </tr>\n",
       "  </tbody>\n",
       "</table>\n",
       "</div>"
      ],
      "text/plain": [
       "               bath       balcony         price\n",
       "count  13246.000000  12710.000000  13319.000000\n",
       "mean       2.692586      1.584343    112.567621\n",
       "std        1.341506      0.817287    148.977089\n",
       "min        1.000000      0.000000      8.000000\n",
       "25%        2.000000      1.000000     50.000000\n",
       "50%        2.000000      2.000000     72.000000\n",
       "75%        3.000000      2.000000    120.000000\n",
       "max       40.000000      3.000000   3600.000000"
      ]
     },
     "execution_count": 5,
     "metadata": {},
     "output_type": "execute_result"
    }
   ],
   "source": [
    "train_data.describe()"
   ]
  },
  {
   "cell_type": "code",
   "execution_count": 6,
   "metadata": {},
   "outputs": [
    {
     "data": {
      "text/plain": [
       "area_type        object\n",
       "availability     object\n",
       "location         object\n",
       "size             object\n",
       "society          object\n",
       "total_sqft       object\n",
       "bath            float64\n",
       "balcony         float64\n",
       "price           float64\n",
       "dtype: object"
      ]
     },
     "execution_count": 6,
     "metadata": {},
     "output_type": "execute_result"
    }
   ],
   "source": [
    "train_data.dtypes"
   ]
  },
  {
   "cell_type": "code",
   "execution_count": 7,
   "metadata": {},
   "outputs": [
    {
     "name": "stderr",
     "output_type": "stream",
     "text": [
      "C:\\Users\\NITIN\\Anaconda3\\lib\\site-packages\\matplotlib\\axes\\_axes.py:6462: UserWarning: The 'normed' kwarg is deprecated, and has been replaced by the 'density' kwarg.\n",
      "  warnings.warn(\"The 'normed' kwarg is deprecated, and has been \"\n"
     ]
    },
    {
     "name": "stdout",
     "output_type": "stream",
     "text": [
      "\n",
      " mu = 4.41 and sigma = 0.71\n",
      "\n"
     ]
    },
    {
     "data": {
      "image/png": "[encoded data removed]",
      "text/plain": [
       "<Figure size 432x288 with 1 Axes>"
      ]
     },
     "metadata": {},
     "output_type": "display_data"
    },
    {
     "data": {
      "image/png": "[encoded data removed]",
      "text/plain": [
       "<Figure size 432x288 with 1 Axes>"
      ]
     },
     "metadata": {},
     "output_type": "display_data"
    },
    {
     "name": "stdout",
     "output_type": "stream",
     "text": [
      "Skewness: 0.856272\n",
      "Kurtosis: 1.347649\n"
     ]
    }
   ],
   "source": [
    "# Plot Histogram\n",
    "train_data['price'] =np.log1p(train_data['price'])\n",
    "sns.distplot(train_data['price'] , fit=norm);\n",
    "\n",
    "# Get the fitted parameters used by the function\n",
    "(mu, sigma) = norm.fit(train_data['price'])\n",
    "print( '\\n mu = {:.2f} and sigma = {:.2f}\\n'.format(mu, sigma))\n",
    "plt.legend(['Normal dist. ($\\mu=$ {:.2f} and $\\sigma=$ {:.2f} )'.format(mu, sigma)],\n",
    "            loc='best')\n",
    "plt.ylabel('Frequency')\n",
    "plt.title('SalePrice distribution')\n",
    "\n",
    "fig = plt.figure()\n",
    "res = stats.probplot(train_data['price'], plot=plt)\n",
    "plt.show()\n",
    "\n",
    "print(\"Skewness: %f\" %train_data['price'].skew())\n",
    "print(\"Kurtosis: %f\" % train_data['price'].kurt())"
   ]
  },
  {
   "cell_type": "code",
   "execution_count": 8,
   "metadata": {},
   "outputs": [
    {
     "data": {
      "image/png": "[encoded data removed]",
      "text/plain": [
       "<Figure size 864x648 with 2 Axes>"
      ]
     },
     "metadata": {},
     "output_type": "display_data"
    }
   ],
   "source": [
    "corrmat = train_data.corr()\n",
    "f, ax = plt.subplots(figsize=(12, 9))\n",
    "sns.heatmap(corrmat, vmax=.8, square=True);"
   ]
  },
  {
   "cell_type": "code",
   "execution_count": 9,
   "metadata": {},
   "outputs": [
    {
     "data": {
      "text/plain": [
       "<matplotlib.axes._subplots.AxesSubplot at 0x1f7f10e2d30>"
      ]
     },
     "execution_count": 9,
     "metadata": {},
     "output_type": "execute_result"
    },
    {
     "data": {
      "image/png": "[encoded data removed]",
      "text/plain": [
       "<Figure size 432x288 with 1 Axes>"
      ]
     },
     "metadata": {},
     "output_type": "display_data"
    }
   ],
   "source": [
    "#fig, axs = plt.subplots(figsize=(30, 10),ncols=2)\n",
    "sns.boxplot(x=train_data['bath'], y=train_data['price'])"
   ]
  },
  {
   "cell_type": "code",
   "execution_count": 10,
   "metadata": {},
   "outputs": [
    {
     "data": {
      "text/plain": [
       "<matplotlib.collections.PathCollection at 0x1f7f1275978>"
      ]
     },
     "execution_count": 10,
     "metadata": {},
     "output_type": "execute_result"
    },
    {
     "data": {
      "image/png": "[encoded data removed]",
      "text/plain": [
       "<Figure size 432x288 with 1 Axes>"
      ]
     },
     "metadata": {},
     "output_type": "display_data"
    }
   ],
   "source": [
    "plt.scatter(x= train_data['bath'],y=train_data['price'])\n"
   ]
  },
  {
   "cell_type": "code",
   "execution_count": 11,
   "metadata": {},
   "outputs": [
    {
     "name": "stderr",
     "output_type": "stream",
     "text": [
      "C:\\Users\\NITIN\\Anaconda3\\lib\\site-packages\\matplotlib\\axes\\_axes.py:6462: UserWarning: The 'normed' kwarg is deprecated, and has been replaced by the 'density' kwarg.\n",
      "  warnings.warn(\"The 'normed' kwarg is deprecated, and has been \"\n",
      "C:\\Users\\NITIN\\Anaconda3\\lib\\site-packages\\matplotlib\\axes\\_axes.py:6462: UserWarning: The 'normed' kwarg is deprecated, and has been replaced by the 'density' kwarg.\n",
      "  warnings.warn(\"The 'normed' kwarg is deprecated, and has been \"\n"
     ]
    },
    {
     "data": {
      "text/plain": [
       "<matplotlib.axes._subplots.AxesSubplot at 0x1f7f130a0f0>"
      ]
     },
     "execution_count": 11,
     "metadata": {},
     "output_type": "execute_result"
    },
    {
     "data": {
      "image/png": "[encoded data removed]",
      "text/plain": [
       "<Figure size 2160x720 with 2 Axes>"
      ]
     },
     "metadata": {},
     "output_type": "display_data"
    },
    {
     "data": {
      "image/png": "[encoded data removed]",
      "text/plain": [
       "<Figure size 432x432 with 3 Axes>"
      ]
     },
     "metadata": {},
     "output_type": "display_data"
    }
   ],
   "source": [
    "fig, axs = plt.subplots(figsize=(30, 10),ncols=2)\n",
    "sns.jointplot(x=train_data['balcony'], y=train_data['price'], kind='reg', ax = axs[0])\n",
    "sns.boxplot(x=train_data['balcony'], y=train_data['price'] ,ax =axs[1])"
   ]
  },
  {
   "cell_type": "code",
   "execution_count": 12,
   "metadata": {},
   "outputs": [],
   "source": [
    "train_data = train_data.drop(train_data[(train_data['bath']>=25) \n",
    "                         & (train_data['price']<1000)].index).reset_index(drop=True)"
   ]
  },
  {
   "cell_type": "markdown",
   "metadata": {},
   "source": [
    "## Combining Datasets"
   ]
  },
  {
   "cell_type": "code",
   "execution_count": 13,
   "metadata": {},
   "outputs": [
    {
     "name": "stdout",
     "output_type": "stream",
     "text": [
      "Train data size is : (13317, 9)\n",
      "Test data size is : (1480, 9)\n",
      "Combined dataset size is : (14797, 8)\n",
      "0\n"
     ]
    }
   ],
   "source": [
    "# Combining Datasets\n",
    "ntrain = train_data.shape[0]\n",
    "ntest = test_data.shape[0]\n",
    "y_train = train_data.price\n",
    "all_data = pd.concat((train_data, test_data)).reset_index(drop=True)\n",
    "all_data.drop(['price'], axis=1, inplace=True)\n",
    "print(\"Train data size is : {}\".format(train_data.shape))\n",
    "print(\"Test data size is : {}\".format(test_data.shape))\n",
    "print(\"Combined dataset size is : {}\".format(all_data.shape))\n",
    "print(train_data['price'].isnull().sum())"
   ]
  },
  {
   "cell_type": "code",
   "execution_count": 14,
   "metadata": {},
   "outputs": [
    {
     "data": {
      "text/html": [
       "<div>\n",
       "<style scoped>\n",
       "    .dataframe tbody tr th:only-of-type {\n",
       "        vertical-align: middle;\n",
       "    }\n",
       "\n",
       "    .dataframe tbody tr th {\n",
       "        vertical-align: top;\n",
       "    }\n",
       "\n",
       "    .dataframe thead th {\n",
       "        text-align: right;\n",
       "    }\n",
       "</style>\n",
       "<table border=\"1\" class=\"dataframe\">\n",
       "  <thead>\n",
       "    <tr style=\"text-align: right;\">\n",
       "      <th></th>\n",
       "      <th>Missing Ratio</th>\n",
       "    </tr>\n",
       "  </thead>\n",
       "  <tbody>\n",
       "    <tr>\n",
       "      <th>society</th>\n",
       "      <td>41.400284</td>\n",
       "    </tr>\n",
       "    <tr>\n",
       "      <th>balcony</th>\n",
       "      <td>4.582010</td>\n",
       "    </tr>\n",
       "    <tr>\n",
       "      <th>bath</th>\n",
       "      <td>0.540650</td>\n",
       "    </tr>\n",
       "    <tr>\n",
       "      <th>size</th>\n",
       "      <td>0.121646</td>\n",
       "    </tr>\n",
       "  </tbody>\n",
       "</table>\n",
       "</div>"
      ],
      "text/plain": [
       "         Missing Ratio\n",
       "society      41.400284\n",
       "balcony       4.582010\n",
       "bath          0.540650\n",
       "size          0.121646"
      ]
     },
     "execution_count": 14,
     "metadata": {},
     "output_type": "execute_result"
    }
   ],
   "source": [
    "# Find Missing Ratio of Dataset\n",
    "all_data_na = (all_data.isnull().sum() / len(all_data)) * 100\n",
    "all_data_na = all_data_na.drop(all_data_na[all_data_na == 0].index).sort_values(ascending=False)[:30]\n",
    "missing_data = pd.DataFrame({'Missing Ratio' :all_data_na})\n",
    "missing_data"
   ]
  },
  {
   "cell_type": "code",
   "execution_count": 15,
   "metadata": {},
   "outputs": [
    {
     "data": {
      "text/plain": [
       "area_type        object\n",
       "availability     object\n",
       "location         object\n",
       "size             object\n",
       "society          object\n",
       "total_sqft       object\n",
       "bath            float64\n",
       "balcony         float64\n",
       "dtype: object"
      ]
     },
     "execution_count": 15,
     "metadata": {},
     "output_type": "execute_result"
    }
   ],
   "source": [
    "all_data.dtypes"
   ]
  },
  {
   "cell_type": "markdown",
   "metadata": {},
   "source": [
    "## Features Encoding"
   ]
  },
  {
   "cell_type": "code",
   "execution_count": 16,
   "metadata": {},
   "outputs": [],
   "source": [
    "lb = LabelEncoder()\n",
    "all_data['area_type'].unique()\n",
    "dict_value = {'Super built-up  Area' : 1.8, 'Plot  Area' : 5, 'Built-up  Area' : 1.15,'Carpet  Area' : 1}\n",
    "all_data['area_type'].replace(dict_value,inplace =True)"
   ]
  },
  {
   "cell_type": "code",
   "execution_count": 17,
   "metadata": {},
   "outputs": [
    {
     "data": {
      "text/plain": [
       "array(['2 BHK', '4 Bedroom', '3 BHK', '4 BHK', '6 Bedroom', '3 Bedroom',\n",
       "       '1 BHK', '1 RK', '1 Bedroom', '8 Bedroom', '2 Bedroom',\n",
       "       '7 Bedroom', '5 BHK', '7 BHK', '6 BHK', '5 Bedroom', '11 BHK',\n",
       "       '9 BHK', nan, '9 Bedroom', '10 Bedroom', '11 Bedroom', '10 BHK',\n",
       "       '19 BHK', '16 BHK', '14 BHK', '8 BHK', '12 Bedroom', '13 BHK',\n",
       "       '18 Bedroom', '16 Bedroom'], dtype=object)"
      ]
     },
     "execution_count": 17,
     "metadata": {},
     "output_type": "execute_result"
    }
   ],
   "source": [
    "all_data['size'].unique()"
   ]
  },
  {
   "cell_type": "code",
   "execution_count": 18,
   "metadata": {},
   "outputs": [],
   "source": [
    "all_data['size'] = all_data['size'].replace('1 RK','0')\n",
    "all_data['size'] = all_data['size'].str.extract('([0-9]*[.]?[0-9]+)',expand= False)\n",
    "all_data['size'] = all_data['size'].astype(\"float64\")\n",
    "all_data['size'] = all_data['size'].fillna(all_data['size'].mode()[0])"
   ]
  },
  {
   "cell_type": "code",
   "execution_count": 19,
   "metadata": {},
   "outputs": [],
   "source": [
    "#X['total_sqft'].applymap(lambda x: isinstance(x, (int, floatset())))\n",
    "area_types = all_data['total_sqft'].str.extract('([0-9.]*)([.A-Z a-z]*)',expand= False)\n",
    "#print(set(area_types[1]))\n",
    "area_range = all_data['total_sqft'].str.extract('([0-9 ]*-[ 0-9]*)',expand= False)\n",
    "#print(set(area_range))\n",
    "dict_size ={}\n",
    "dict_size['Guntha'] = 1089.0\n",
    "dict_size['Sq. Meter'] = 10.7639\n",
    "dict_size['Acres'] = 43560.0\n",
    "dict_size['Sq. Yards'] = 9.0\n",
    "dict_size['Perch'] = 272.25\n",
    "dict_size['Cents'] = 435.61\n",
    "dict_size['Grounds'] = 2400.0\n",
    "\n",
    "for key,values in dict_size.items():\n",
    "    for index,value in all_data['total_sqft'].iteritems():\n",
    "        if key in value:\n",
    "            val = float(re.findall(\"\\d*\\.\\d+|\\d+\",value)[0])\n",
    "            #print(X['total_sqft'][index], val,key)\n",
    "            all_data.loc[index,'total_sqft'] = str(val*values)\n",
    "            #X['total_sqft'][index] = str(val*values)\n",
    "            #print(X['total_sqft'][index])\n",
    "        if '-' in value:\n",
    "            lst = list(map(float,value.split(\"-\")))\n",
    "            all_data.loc[index,'total_sqft'] = str((lst[0] + lst[1]) /2)\n",
    "all_data['total_sqft'] = all_data['total_sqft'].astype('float64')"
   ]
  },
  {
   "cell_type": "code",
   "execution_count": 20,
   "metadata": {},
   "outputs": [],
   "source": [
    "all_data['society'].fillna(\"No\", inplace =True)"
   ]
  },
  {
   "cell_type": "code",
   "execution_count": 21,
   "metadata": {},
   "outputs": [],
   "source": [
    "available_features_society = all_data['society'].str.extract(r'(0{4})', expand = False)\n",
    "all_data['is_society'] = available_features_society.fillna(0)"
   ]
  },
  {
   "cell_type": "code",
   "execution_count": 22,
   "metadata": {},
   "outputs": [],
   "source": [
    "all_data['bath'].fillna(all_data['bath'].mode()[0], inplace =True)\n",
    "all_data['balcony'].fillna(all_data['balcony'].mode()[0], inplace =True)"
   ]
  },
  {
   "cell_type": "code",
   "execution_count": 23,
   "metadata": {},
   "outputs": [
    {
     "data": {
      "text/plain": [
       "area_type       0\n",
       "availability    0\n",
       "location        0\n",
       "size            0\n",
       "society         0\n",
       "total_sqft      0\n",
       "bath            0\n",
       "balcony         0\n",
       "is_society      0\n",
       "dtype: int64"
      ]
     },
     "execution_count": 23,
     "metadata": {},
     "output_type": "execute_result"
    }
   ],
   "source": [
    "all_data.isnull().sum()"
   ]
  },
  {
   "cell_type": "code",
   "execution_count": 24,
   "metadata": {
    "scrolled": true
   },
   "outputs": [
    {
     "data": {
      "text/plain": [
       "area_type       float64\n",
       "availability     object\n",
       "location         object\n",
       "size            float64\n",
       "society          object\n",
       "total_sqft      float64\n",
       "bath            float64\n",
       "balcony         float64\n",
       "is_society        int64\n",
       "dtype: object"
      ]
     },
     "execution_count": 24,
     "metadata": {},
     "output_type": "execute_result"
    }
   ],
   "source": [
    "all_data.dtypes"
   ]
  },
  {
   "cell_type": "code",
   "execution_count": 25,
   "metadata": {},
   "outputs": [
    {
     "data": {
      "text/plain": [
       "(0.8861596775737759, 0.0)"
      ]
     },
     "execution_count": 25,
     "metadata": {},
     "output_type": "execute_result"
    }
   ],
   "source": [
    "from scipy.stats import pearsonr\n",
    "value = all_data.dropna()\n",
    "pearsonr(value['size'],value['bath'])"
   ]
  },
  {
   "cell_type": "code",
   "execution_count": 26,
   "metadata": {},
   "outputs": [],
   "source": [
    "all_data['isready']= all_data['availability'].str.extract(r'([A-Za-z ]{13,})', expand = False)"
   ]
  },
  {
   "cell_type": "code",
   "execution_count": 27,
   "metadata": {},
   "outputs": [],
   "source": [
    "all_data['isready'].unique()\n",
    "dict_value = {'Ready To Move' : 2, 'Immediate Possession' : 1}\n",
    "all_data['isready'].replace(dict_value,inplace =True)\n",
    "all_data['isready'].fillna(0, inplace = True)"
   ]
  },
  {
   "cell_type": "code",
   "execution_count": 28,
   "metadata": {},
   "outputs": [],
   "source": [
    "all_data['availability'] = all_data['availability'].replace(['Ready To Move', 'Immediate Possession'],0)"
   ]
  },
  {
   "cell_type": "code",
   "execution_count": 29,
   "metadata": {},
   "outputs": [],
   "source": [
    "all_data = all_data.drop(['availability'],axis=1)"
   ]
  },
  {
   "cell_type": "code",
   "execution_count": 30,
   "metadata": {},
   "outputs": [
    {
     "data": {
      "text/plain": [
       "<seaborn.axisgrid.PairGrid at 0x1f7f1619b00>"
      ]
     },
     "execution_count": 30,
     "metadata": {},
     "output_type": "execute_result"
    },
    {
     "data": {
      "image/png": "[encoded data removed]",
      "text/plain": [
       "<Figure size 1260x1260 with 56 Axes>"
      ]
     },
     "metadata": {},
     "output_type": "display_data"
    }
   ],
   "source": [
    "#plt.scatter(numeric_dataset['bath'],numeric_dataset['size'])\n",
    "#numeric_dataset = numeric_dataset.drop(['bath'],axis=1)\n",
    "sns.pairplot(all_data)\n"
   ]
  },
  {
   "cell_type": "code",
   "execution_count": 31,
   "metadata": {},
   "outputs": [],
   "source": [
    "all_data = all_data.drop(['bath'],axis =1)"
   ]
  },
  {
   "cell_type": "code",
   "execution_count": 32,
   "metadata": {},
   "outputs": [],
   "source": [
    "from category_encoders import *\n",
    "enc = BinaryEncoder(cols=['location', 'society']).fit(all_data,y_train)\n",
    "\n",
    "# transform the dataset\n",
    "all_data = enc.transform(all_data)"
   ]
  },
  {
   "cell_type": "markdown",
   "metadata": {},
   "source": [
    "## Outlier Removal"
   ]
  },
  {
   "cell_type": "code",
   "execution_count": 33,
   "metadata": {},
   "outputs": [
    {
     "name": "stdout",
     "output_type": "stream",
     "text": [
      "(13317, 32) (1480, 31)\n"
     ]
    },
    {
     "data": {
      "text/html": [
       "<div>\n",
       "<style scoped>\n",
       "    .dataframe tbody tr th:only-of-type {\n",
       "        vertical-align: middle;\n",
       "    }\n",
       "\n",
       "    .dataframe tbody tr th {\n",
       "        vertical-align: top;\n",
       "    }\n",
       "\n",
       "    .dataframe thead th {\n",
       "        text-align: right;\n",
       "    }\n",
       "</style>\n",
       "<table border=\"1\" class=\"dataframe\">\n",
       "  <thead>\n",
       "    <tr style=\"text-align: right;\">\n",
       "      <th></th>\n",
       "      <th>location_0</th>\n",
       "      <th>location_1</th>\n",
       "      <th>location_2</th>\n",
       "      <th>location_3</th>\n",
       "      <th>location_4</th>\n",
       "      <th>location_5</th>\n",
       "      <th>location_6</th>\n",
       "      <th>location_7</th>\n",
       "      <th>location_8</th>\n",
       "      <th>location_9</th>\n",
       "      <th>...</th>\n",
       "      <th>society_10</th>\n",
       "      <th>society_11</th>\n",
       "      <th>society_12</th>\n",
       "      <th>area_type</th>\n",
       "      <th>size</th>\n",
       "      <th>total_sqft</th>\n",
       "      <th>balcony</th>\n",
       "      <th>is_society</th>\n",
       "      <th>isready</th>\n",
       "      <th>price</th>\n",
       "    </tr>\n",
       "  </thead>\n",
       "  <tbody>\n",
       "    <tr>\n",
       "      <th>0</th>\n",
       "      <td>0</td>\n",
       "      <td>0</td>\n",
       "      <td>0</td>\n",
       "      <td>0</td>\n",
       "      <td>0</td>\n",
       "      <td>0</td>\n",
       "      <td>0</td>\n",
       "      <td>0</td>\n",
       "      <td>0</td>\n",
       "      <td>0</td>\n",
       "      <td>...</td>\n",
       "      <td>0</td>\n",
       "      <td>0</td>\n",
       "      <td>1</td>\n",
       "      <td>1.80</td>\n",
       "      <td>2.0</td>\n",
       "      <td>1056.0</td>\n",
       "      <td>1.0</td>\n",
       "      <td>0</td>\n",
       "      <td>0.0</td>\n",
       "      <td>3.690628</td>\n",
       "    </tr>\n",
       "    <tr>\n",
       "      <th>1</th>\n",
       "      <td>0</td>\n",
       "      <td>0</td>\n",
       "      <td>0</td>\n",
       "      <td>0</td>\n",
       "      <td>0</td>\n",
       "      <td>0</td>\n",
       "      <td>0</td>\n",
       "      <td>0</td>\n",
       "      <td>0</td>\n",
       "      <td>0</td>\n",
       "      <td>...</td>\n",
       "      <td>0</td>\n",
       "      <td>1</td>\n",
       "      <td>0</td>\n",
       "      <td>5.00</td>\n",
       "      <td>4.0</td>\n",
       "      <td>2600.0</td>\n",
       "      <td>3.0</td>\n",
       "      <td>0</td>\n",
       "      <td>2.0</td>\n",
       "      <td>4.795791</td>\n",
       "    </tr>\n",
       "    <tr>\n",
       "      <th>2</th>\n",
       "      <td>0</td>\n",
       "      <td>0</td>\n",
       "      <td>0</td>\n",
       "      <td>0</td>\n",
       "      <td>0</td>\n",
       "      <td>0</td>\n",
       "      <td>0</td>\n",
       "      <td>0</td>\n",
       "      <td>0</td>\n",
       "      <td>0</td>\n",
       "      <td>...</td>\n",
       "      <td>0</td>\n",
       "      <td>1</td>\n",
       "      <td>1</td>\n",
       "      <td>1.15</td>\n",
       "      <td>3.0</td>\n",
       "      <td>1440.0</td>\n",
       "      <td>3.0</td>\n",
       "      <td>0</td>\n",
       "      <td>2.0</td>\n",
       "      <td>4.143135</td>\n",
       "    </tr>\n",
       "    <tr>\n",
       "      <th>3</th>\n",
       "      <td>0</td>\n",
       "      <td>0</td>\n",
       "      <td>0</td>\n",
       "      <td>0</td>\n",
       "      <td>0</td>\n",
       "      <td>0</td>\n",
       "      <td>0</td>\n",
       "      <td>0</td>\n",
       "      <td>0</td>\n",
       "      <td>1</td>\n",
       "      <td>...</td>\n",
       "      <td>1</td>\n",
       "      <td>0</td>\n",
       "      <td>0</td>\n",
       "      <td>1.80</td>\n",
       "      <td>3.0</td>\n",
       "      <td>1521.0</td>\n",
       "      <td>1.0</td>\n",
       "      <td>0</td>\n",
       "      <td>2.0</td>\n",
       "      <td>4.564348</td>\n",
       "    </tr>\n",
       "    <tr>\n",
       "      <th>4</th>\n",
       "      <td>0</td>\n",
       "      <td>0</td>\n",
       "      <td>0</td>\n",
       "      <td>0</td>\n",
       "      <td>0</td>\n",
       "      <td>0</td>\n",
       "      <td>0</td>\n",
       "      <td>0</td>\n",
       "      <td>0</td>\n",
       "      <td>1</td>\n",
       "      <td>...</td>\n",
       "      <td>0</td>\n",
       "      <td>1</td>\n",
       "      <td>1</td>\n",
       "      <td>1.80</td>\n",
       "      <td>2.0</td>\n",
       "      <td>1200.0</td>\n",
       "      <td>1.0</td>\n",
       "      <td>0</td>\n",
       "      <td>2.0</td>\n",
       "      <td>3.951244</td>\n",
       "    </tr>\n",
       "  </tbody>\n",
       "</table>\n",
       "<p>5 rows × 32 columns</p>\n",
       "</div>"
      ],
      "text/plain": [
       "   location_0  location_1  location_2  location_3  location_4  location_5  \\\n",
       "0           0           0           0           0           0           0   \n",
       "1           0           0           0           0           0           0   \n",
       "2           0           0           0           0           0           0   \n",
       "3           0           0           0           0           0           0   \n",
       "4           0           0           0           0           0           0   \n",
       "\n",
       "   location_6  location_7  location_8  location_9    ...     society_10  \\\n",
       "0           0           0           0           0    ...              0   \n",
       "1           0           0           0           0    ...              0   \n",
       "2           0           0           0           0    ...              0   \n",
       "3           0           0           0           1    ...              1   \n",
       "4           0           0           0           1    ...              0   \n",
       "\n",
       "   society_11  society_12  area_type  size  total_sqft  balcony  is_society  \\\n",
       "0           0           1       1.80   2.0      1056.0      1.0           0   \n",
       "1           1           0       5.00   4.0      2600.0      3.0           0   \n",
       "2           1           1       1.15   3.0      1440.0      3.0           0   \n",
       "3           0           0       1.80   3.0      1521.0      1.0           0   \n",
       "4           1           1       1.80   2.0      1200.0      1.0           0   \n",
       "\n",
       "   isready     price  \n",
       "0      0.0  3.690628  \n",
       "1      2.0  4.795791  \n",
       "2      2.0  4.143135  \n",
       "3      2.0  4.564348  \n",
       "4      2.0  3.951244  \n",
       "\n",
       "[5 rows x 32 columns]"
      ]
     },
     "execution_count": 33,
     "metadata": {},
     "output_type": "execute_result"
    }
   ],
   "source": [
    "train = all_data[:ntrain]\n",
    "train = train.assign(price = y_train)\n",
    "test = all_data[ntrain:]\n",
    "print(train.shape,test.shape)\n",
    "train.head()"
   ]
  },
  {
   "cell_type": "markdown",
   "metadata": {},
   "source": [
    "### Continuous Variable"
   ]
  },
  {
   "cell_type": "code",
   "execution_count": 34,
   "metadata": {},
   "outputs": [
    {
     "name": "stderr",
     "output_type": "stream",
     "text": [
      "C:\\Users\\NITIN\\Anaconda3\\lib\\site-packages\\matplotlib\\axes\\_axes.py:6462: UserWarning: The 'normed' kwarg is deprecated, and has been replaced by the 'density' kwarg.\n",
      "  warnings.warn(\"The 'normed' kwarg is deprecated, and has been \"\n",
      "C:\\Users\\NITIN\\Anaconda3\\lib\\site-packages\\matplotlib\\axes\\_axes.py:6462: UserWarning: The 'normed' kwarg is deprecated, and has been replaced by the 'density' kwarg.\n",
      "  warnings.warn(\"The 'normed' kwarg is deprecated, and has been \"\n"
     ]
    },
    {
     "data": {
      "text/plain": [
       "<seaborn.axisgrid.JointGrid at 0x1f7f3d4d240>"
      ]
     },
     "execution_count": 34,
     "metadata": {},
     "output_type": "execute_result"
    },
    {
     "data": {
      "image/png": "[encoded data removed]",
      "text/plain": [
       "<Figure size 432x432 with 3 Axes>"
      ]
     },
     "metadata": {},
     "output_type": "display_data"
    }
   ],
   "source": [
    "sns.jointplot(x=train['total_sqft'], y=train['price'], kind = \"reg\")\n"
   ]
  },
  {
   "cell_type": "code",
   "execution_count": 35,
   "metadata": {},
   "outputs": [
    {
     "data": {
      "text/html": [
       "<div>\n",
       "<style scoped>\n",
       "    .dataframe tbody tr th:only-of-type {\n",
       "        vertical-align: middle;\n",
       "    }\n",
       "\n",
       "    .dataframe tbody tr th {\n",
       "        vertical-align: top;\n",
       "    }\n",
       "\n",
       "    .dataframe thead th {\n",
       "        text-align: right;\n",
       "    }\n",
       "</style>\n",
       "<table border=\"1\" class=\"dataframe\">\n",
       "  <thead>\n",
       "    <tr style=\"text-align: right;\">\n",
       "      <th></th>\n",
       "      <th>location_0</th>\n",
       "      <th>location_1</th>\n",
       "      <th>location_2</th>\n",
       "      <th>location_3</th>\n",
       "      <th>location_4</th>\n",
       "      <th>location_5</th>\n",
       "      <th>location_6</th>\n",
       "      <th>location_7</th>\n",
       "      <th>location_8</th>\n",
       "      <th>location_9</th>\n",
       "      <th>...</th>\n",
       "      <th>society_10</th>\n",
       "      <th>society_11</th>\n",
       "      <th>society_12</th>\n",
       "      <th>area_type</th>\n",
       "      <th>size</th>\n",
       "      <th>total_sqft</th>\n",
       "      <th>balcony</th>\n",
       "      <th>is_society</th>\n",
       "      <th>isready</th>\n",
       "      <th>price</th>\n",
       "    </tr>\n",
       "  </thead>\n",
       "  <tbody>\n",
       "    <tr>\n",
       "      <th>647</th>\n",
       "      <td>0</td>\n",
       "      <td>0</td>\n",
       "      <td>0</td>\n",
       "      <td>1</td>\n",
       "      <td>0</td>\n",
       "      <td>0</td>\n",
       "      <td>0</td>\n",
       "      <td>1</td>\n",
       "      <td>0</td>\n",
       "      <td>1</td>\n",
       "      <td>...</td>\n",
       "      <td>0</td>\n",
       "      <td>1</td>\n",
       "      <td>1</td>\n",
       "      <td>1.15</td>\n",
       "      <td>9.0</td>\n",
       "      <td>1123031.250</td>\n",
       "      <td>2.0</td>\n",
       "      <td>0</td>\n",
       "      <td>2.0</td>\n",
       "      <td>5.583496</td>\n",
       "    </tr>\n",
       "    <tr>\n",
       "      <th>673</th>\n",
       "      <td>0</td>\n",
       "      <td>0</td>\n",
       "      <td>0</td>\n",
       "      <td>0</td>\n",
       "      <td>0</td>\n",
       "      <td>0</td>\n",
       "      <td>0</td>\n",
       "      <td>1</td>\n",
       "      <td>1</td>\n",
       "      <td>0</td>\n",
       "      <td>...</td>\n",
       "      <td>1</td>\n",
       "      <td>1</td>\n",
       "      <td>1</td>\n",
       "      <td>1.15</td>\n",
       "      <td>3.0</td>\n",
       "      <td>35000.000</td>\n",
       "      <td>3.0</td>\n",
       "      <td>0</td>\n",
       "      <td>2.0</td>\n",
       "      <td>4.875197</td>\n",
       "    </tr>\n",
       "    <tr>\n",
       "      <th>1018</th>\n",
       "      <td>0</td>\n",
       "      <td>0</td>\n",
       "      <td>0</td>\n",
       "      <td>1</td>\n",
       "      <td>1</td>\n",
       "      <td>0</td>\n",
       "      <td>0</td>\n",
       "      <td>0</td>\n",
       "      <td>1</td>\n",
       "      <td>1</td>\n",
       "      <td>...</td>\n",
       "      <td>0</td>\n",
       "      <td>1</td>\n",
       "      <td>1</td>\n",
       "      <td>5.00</td>\n",
       "      <td>1.0</td>\n",
       "      <td>231303.600</td>\n",
       "      <td>0.0</td>\n",
       "      <td>0</td>\n",
       "      <td>0.0</td>\n",
       "      <td>4.709530</td>\n",
       "    </tr>\n",
       "    <tr>\n",
       "      <th>1085</th>\n",
       "      <td>0</td>\n",
       "      <td>0</td>\n",
       "      <td>0</td>\n",
       "      <td>1</td>\n",
       "      <td>1</td>\n",
       "      <td>0</td>\n",
       "      <td>0</td>\n",
       "      <td>1</td>\n",
       "      <td>1</td>\n",
       "      <td>1</td>\n",
       "      <td>...</td>\n",
       "      <td>0</td>\n",
       "      <td>1</td>\n",
       "      <td>1</td>\n",
       "      <td>5.00</td>\n",
       "      <td>2.0</td>\n",
       "      <td>1306800.000</td>\n",
       "      <td>2.0</td>\n",
       "      <td>0</td>\n",
       "      <td>0.0</td>\n",
       "      <td>3.417727</td>\n",
       "    </tr>\n",
       "    <tr>\n",
       "      <th>1892</th>\n",
       "      <td>0</td>\n",
       "      <td>0</td>\n",
       "      <td>1</td>\n",
       "      <td>0</td>\n",
       "      <td>0</td>\n",
       "      <td>0</td>\n",
       "      <td>1</td>\n",
       "      <td>1</td>\n",
       "      <td>1</td>\n",
       "      <td>0</td>\n",
       "      <td>...</td>\n",
       "      <td>0</td>\n",
       "      <td>1</td>\n",
       "      <td>1</td>\n",
       "      <td>5.00</td>\n",
       "      <td>3.0</td>\n",
       "      <td>52272.000</td>\n",
       "      <td>1.0</td>\n",
       "      <td>0</td>\n",
       "      <td>2.0</td>\n",
       "      <td>4.948760</td>\n",
       "    </tr>\n",
       "    <tr>\n",
       "      <th>2621</th>\n",
       "      <td>0</td>\n",
       "      <td>0</td>\n",
       "      <td>1</td>\n",
       "      <td>0</td>\n",
       "      <td>1</td>\n",
       "      <td>0</td>\n",
       "      <td>0</td>\n",
       "      <td>1</td>\n",
       "      <td>1</td>\n",
       "      <td>0</td>\n",
       "      <td>...</td>\n",
       "      <td>0</td>\n",
       "      <td>1</td>\n",
       "      <td>1</td>\n",
       "      <td>5.00</td>\n",
       "      <td>4.0</td>\n",
       "      <td>30000.000</td>\n",
       "      <td>2.0</td>\n",
       "      <td>0</td>\n",
       "      <td>0.0</td>\n",
       "      <td>7.650169</td>\n",
       "    </tr>\n",
       "    <tr>\n",
       "      <th>3226</th>\n",
       "      <td>0</td>\n",
       "      <td>0</td>\n",
       "      <td>1</td>\n",
       "      <td>0</td>\n",
       "      <td>1</td>\n",
       "      <td>1</td>\n",
       "      <td>0</td>\n",
       "      <td>1</td>\n",
       "      <td>0</td>\n",
       "      <td>1</td>\n",
       "      <td>...</td>\n",
       "      <td>0</td>\n",
       "      <td>1</td>\n",
       "      <td>1</td>\n",
       "      <td>1.15</td>\n",
       "      <td>5.0</td>\n",
       "      <td>32722.256</td>\n",
       "      <td>1.0</td>\n",
       "      <td>0</td>\n",
       "      <td>2.0</td>\n",
       "      <td>4.948760</td>\n",
       "    </tr>\n",
       "    <tr>\n",
       "      <th>5390</th>\n",
       "      <td>0</td>\n",
       "      <td>0</td>\n",
       "      <td>1</td>\n",
       "      <td>0</td>\n",
       "      <td>0</td>\n",
       "      <td>1</td>\n",
       "      <td>0</td>\n",
       "      <td>0</td>\n",
       "      <td>0</td>\n",
       "      <td>1</td>\n",
       "      <td>...</td>\n",
       "      <td>0</td>\n",
       "      <td>1</td>\n",
       "      <td>1</td>\n",
       "      <td>1.80</td>\n",
       "      <td>9.0</td>\n",
       "      <td>42000.000</td>\n",
       "      <td>3.0</td>\n",
       "      <td>0</td>\n",
       "      <td>2.0</td>\n",
       "      <td>5.170484</td>\n",
       "    </tr>\n",
       "    <tr>\n",
       "      <th>5466</th>\n",
       "      <td>0</td>\n",
       "      <td>0</td>\n",
       "      <td>0</td>\n",
       "      <td>0</td>\n",
       "      <td>1</td>\n",
       "      <td>0</td>\n",
       "      <td>1</td>\n",
       "      <td>1</td>\n",
       "      <td>1</td>\n",
       "      <td>1</td>\n",
       "      <td>...</td>\n",
       "      <td>1</td>\n",
       "      <td>1</td>\n",
       "      <td>0</td>\n",
       "      <td>1.80</td>\n",
       "      <td>4.0</td>\n",
       "      <td>36000.000</td>\n",
       "      <td>2.0</td>\n",
       "      <td>0</td>\n",
       "      <td>2.0</td>\n",
       "      <td>6.111467</td>\n",
       "    </tr>\n",
       "    <tr>\n",
       "      <th>6330</th>\n",
       "      <td>0</td>\n",
       "      <td>0</td>\n",
       "      <td>1</td>\n",
       "      <td>1</td>\n",
       "      <td>1</td>\n",
       "      <td>1</td>\n",
       "      <td>0</td>\n",
       "      <td>1</td>\n",
       "      <td>0</td>\n",
       "      <td>1</td>\n",
       "      <td>...</td>\n",
       "      <td>0</td>\n",
       "      <td>1</td>\n",
       "      <td>1</td>\n",
       "      <td>5.00</td>\n",
       "      <td>2.0</td>\n",
       "      <td>91040.400</td>\n",
       "      <td>0.0</td>\n",
       "      <td>0</td>\n",
       "      <td>2.0</td>\n",
       "      <td>5.303305</td>\n",
       "    </tr>\n",
       "    <tr>\n",
       "      <th>6549</th>\n",
       "      <td>0</td>\n",
       "      <td>0</td>\n",
       "      <td>1</td>\n",
       "      <td>1</td>\n",
       "      <td>1</td>\n",
       "      <td>1</td>\n",
       "      <td>1</td>\n",
       "      <td>0</td>\n",
       "      <td>0</td>\n",
       "      <td>0</td>\n",
       "      <td>...</td>\n",
       "      <td>0</td>\n",
       "      <td>1</td>\n",
       "      <td>1</td>\n",
       "      <td>5.00</td>\n",
       "      <td>5.0</td>\n",
       "      <td>26136.000</td>\n",
       "      <td>2.0</td>\n",
       "      <td>0</td>\n",
       "      <td>2.0</td>\n",
       "      <td>6.311735</td>\n",
       "    </tr>\n",
       "    <tr>\n",
       "      <th>6998</th>\n",
       "      <td>0</td>\n",
       "      <td>0</td>\n",
       "      <td>1</td>\n",
       "      <td>0</td>\n",
       "      <td>1</td>\n",
       "      <td>0</td>\n",
       "      <td>0</td>\n",
       "      <td>0</td>\n",
       "      <td>0</td>\n",
       "      <td>0</td>\n",
       "      <td>...</td>\n",
       "      <td>0</td>\n",
       "      <td>1</td>\n",
       "      <td>1</td>\n",
       "      <td>5.00</td>\n",
       "      <td>8.0</td>\n",
       "      <td>653415.000</td>\n",
       "      <td>2.0</td>\n",
       "      <td>0</td>\n",
       "      <td>2.0</td>\n",
       "      <td>5.673323</td>\n",
       "    </tr>\n",
       "    <tr>\n",
       "      <th>7239</th>\n",
       "      <td>0</td>\n",
       "      <td>0</td>\n",
       "      <td>0</td>\n",
       "      <td>0</td>\n",
       "      <td>0</td>\n",
       "      <td>0</td>\n",
       "      <td>0</td>\n",
       "      <td>1</td>\n",
       "      <td>1</td>\n",
       "      <td>0</td>\n",
       "      <td>...</td>\n",
       "      <td>0</td>\n",
       "      <td>1</td>\n",
       "      <td>1</td>\n",
       "      <td>5.00</td>\n",
       "      <td>1.0</td>\n",
       "      <td>26136.000</td>\n",
       "      <td>0.0</td>\n",
       "      <td>0</td>\n",
       "      <td>2.0</td>\n",
       "      <td>5.017280</td>\n",
       "    </tr>\n",
       "    <tr>\n",
       "      <th>7331</th>\n",
       "      <td>0</td>\n",
       "      <td>0</td>\n",
       "      <td>0</td>\n",
       "      <td>0</td>\n",
       "      <td>0</td>\n",
       "      <td>0</td>\n",
       "      <td>0</td>\n",
       "      <td>1</td>\n",
       "      <td>1</td>\n",
       "      <td>1</td>\n",
       "      <td>...</td>\n",
       "      <td>0</td>\n",
       "      <td>1</td>\n",
       "      <td>1</td>\n",
       "      <td>5.00</td>\n",
       "      <td>1.0</td>\n",
       "      <td>87120.000</td>\n",
       "      <td>0.0</td>\n",
       "      <td>0</td>\n",
       "      <td>2.0</td>\n",
       "      <td>4.836282</td>\n",
       "    </tr>\n",
       "    <tr>\n",
       "      <th>7604</th>\n",
       "      <td>0</td>\n",
       "      <td>0</td>\n",
       "      <td>1</td>\n",
       "      <td>0</td>\n",
       "      <td>0</td>\n",
       "      <td>0</td>\n",
       "      <td>0</td>\n",
       "      <td>1</td>\n",
       "      <td>0</td>\n",
       "      <td>0</td>\n",
       "      <td>...</td>\n",
       "      <td>1</td>\n",
       "      <td>1</td>\n",
       "      <td>1</td>\n",
       "      <td>5.00</td>\n",
       "      <td>3.0</td>\n",
       "      <td>653400.000</td>\n",
       "      <td>1.0</td>\n",
       "      <td>0</td>\n",
       "      <td>2.0</td>\n",
       "      <td>5.384495</td>\n",
       "    </tr>\n",
       "    <tr>\n",
       "      <th>7723</th>\n",
       "      <td>0</td>\n",
       "      <td>0</td>\n",
       "      <td>0</td>\n",
       "      <td>0</td>\n",
       "      <td>0</td>\n",
       "      <td>0</td>\n",
       "      <td>0</td>\n",
       "      <td>1</td>\n",
       "      <td>1</td>\n",
       "      <td>1</td>\n",
       "      <td>...</td>\n",
       "      <td>0</td>\n",
       "      <td>1</td>\n",
       "      <td>1</td>\n",
       "      <td>5.00</td>\n",
       "      <td>1.0</td>\n",
       "      <td>54885.600</td>\n",
       "      <td>0.0</td>\n",
       "      <td>0</td>\n",
       "      <td>2.0</td>\n",
       "      <td>4.836282</td>\n",
       "    </tr>\n",
       "    <tr>\n",
       "      <th>7944</th>\n",
       "      <td>0</td>\n",
       "      <td>0</td>\n",
       "      <td>0</td>\n",
       "      <td>0</td>\n",
       "      <td>1</td>\n",
       "      <td>0</td>\n",
       "      <td>1</td>\n",
       "      <td>1</td>\n",
       "      <td>0</td>\n",
       "      <td>1</td>\n",
       "      <td>...</td>\n",
       "      <td>0</td>\n",
       "      <td>1</td>\n",
       "      <td>1</td>\n",
       "      <td>5.00</td>\n",
       "      <td>3.0</td>\n",
       "      <td>20000.000</td>\n",
       "      <td>2.0</td>\n",
       "      <td>0</td>\n",
       "      <td>2.0</td>\n",
       "      <td>5.170484</td>\n",
       "    </tr>\n",
       "    <tr>\n",
       "      <th>9516</th>\n",
       "      <td>0</td>\n",
       "      <td>0</td>\n",
       "      <td>1</td>\n",
       "      <td>0</td>\n",
       "      <td>0</td>\n",
       "      <td>0</td>\n",
       "      <td>0</td>\n",
       "      <td>1</td>\n",
       "      <td>0</td>\n",
       "      <td>0</td>\n",
       "      <td>...</td>\n",
       "      <td>1</td>\n",
       "      <td>1</td>\n",
       "      <td>1</td>\n",
       "      <td>1.15</td>\n",
       "      <td>3.0</td>\n",
       "      <td>26460.000</td>\n",
       "      <td>1.0</td>\n",
       "      <td>0</td>\n",
       "      <td>2.0</td>\n",
       "      <td>5.451038</td>\n",
       "    </tr>\n",
       "    <tr>\n",
       "      <th>10485</th>\n",
       "      <td>0</td>\n",
       "      <td>1</td>\n",
       "      <td>0</td>\n",
       "      <td>0</td>\n",
       "      <td>1</td>\n",
       "      <td>0</td>\n",
       "      <td>1</td>\n",
       "      <td>0</td>\n",
       "      <td>0</td>\n",
       "      <td>1</td>\n",
       "      <td>...</td>\n",
       "      <td>0</td>\n",
       "      <td>1</td>\n",
       "      <td>1</td>\n",
       "      <td>5.00</td>\n",
       "      <td>2.0</td>\n",
       "      <td>54450.000</td>\n",
       "      <td>2.0</td>\n",
       "      <td>0</td>\n",
       "      <td>2.0</td>\n",
       "      <td>5.303305</td>\n",
       "    </tr>\n",
       "    <tr>\n",
       "      <th>11317</th>\n",
       "      <td>0</td>\n",
       "      <td>1</td>\n",
       "      <td>0</td>\n",
       "      <td>0</td>\n",
       "      <td>1</td>\n",
       "      <td>1</td>\n",
       "      <td>0</td>\n",
       "      <td>0</td>\n",
       "      <td>1</td>\n",
       "      <td>0</td>\n",
       "      <td>...</td>\n",
       "      <td>0</td>\n",
       "      <td>1</td>\n",
       "      <td>1</td>\n",
       "      <td>5.00</td>\n",
       "      <td>1.0</td>\n",
       "      <td>41382.000</td>\n",
       "      <td>0.0</td>\n",
       "      <td>0</td>\n",
       "      <td>2.0</td>\n",
       "      <td>5.141664</td>\n",
       "    </tr>\n",
       "    <tr>\n",
       "      <th>11612</th>\n",
       "      <td>0</td>\n",
       "      <td>1</td>\n",
       "      <td>0</td>\n",
       "      <td>0</td>\n",
       "      <td>1</td>\n",
       "      <td>1</td>\n",
       "      <td>0</td>\n",
       "      <td>1</td>\n",
       "      <td>0</td>\n",
       "      <td>1</td>\n",
       "      <td>...</td>\n",
       "      <td>0</td>\n",
       "      <td>1</td>\n",
       "      <td>1</td>\n",
       "      <td>5.00</td>\n",
       "      <td>3.0</td>\n",
       "      <td>261360.000</td>\n",
       "      <td>0.0</td>\n",
       "      <td>0</td>\n",
       "      <td>2.0</td>\n",
       "      <td>4.394449</td>\n",
       "    </tr>\n",
       "    <tr>\n",
       "      <th>12984</th>\n",
       "      <td>0</td>\n",
       "      <td>0</td>\n",
       "      <td>1</td>\n",
       "      <td>0</td>\n",
       "      <td>1</td>\n",
       "      <td>0</td>\n",
       "      <td>0</td>\n",
       "      <td>1</td>\n",
       "      <td>1</td>\n",
       "      <td>0</td>\n",
       "      <td>...</td>\n",
       "      <td>0</td>\n",
       "      <td>1</td>\n",
       "      <td>1</td>\n",
       "      <td>5.00</td>\n",
       "      <td>6.0</td>\n",
       "      <td>30400.000</td>\n",
       "      <td>2.0</td>\n",
       "      <td>0</td>\n",
       "      <td>2.0</td>\n",
       "      <td>7.509335</td>\n",
       "    </tr>\n",
       "  </tbody>\n",
       "</table>\n",
       "<p>22 rows × 32 columns</p>\n",
       "</div>"
      ],
      "text/plain": [
       "       location_0  location_1  location_2  location_3  location_4  location_5  \\\n",
       "647             0           0           0           1           0           0   \n",
       "673             0           0           0           0           0           0   \n",
       "1018            0           0           0           1           1           0   \n",
       "1085            0           0           0           1           1           0   \n",
       "1892            0           0           1           0           0           0   \n",
       "2621            0           0           1           0           1           0   \n",
       "3226            0           0           1           0           1           1   \n",
       "5390            0           0           1           0           0           1   \n",
       "5466            0           0           0           0           1           0   \n",
       "6330            0           0           1           1           1           1   \n",
       "6549            0           0           1           1           1           1   \n",
       "6998            0           0           1           0           1           0   \n",
       "7239            0           0           0           0           0           0   \n",
       "7331            0           0           0           0           0           0   \n",
       "7604            0           0           1           0           0           0   \n",
       "7723            0           0           0           0           0           0   \n",
       "7944            0           0           0           0           1           0   \n",
       "9516            0           0           1           0           0           0   \n",
       "10485           0           1           0           0           1           0   \n",
       "11317           0           1           0           0           1           1   \n",
       "11612           0           1           0           0           1           1   \n",
       "12984           0           0           1           0           1           0   \n",
       "\n",
       "       location_6  location_7  location_8  location_9    ...     society_10  \\\n",
       "647             0           1           0           1    ...              0   \n",
       "673             0           1           1           0    ...              1   \n",
       "1018            0           0           1           1    ...              0   \n",
       "1085            0           1           1           1    ...              0   \n",
       "1892            1           1           1           0    ...              0   \n",
       "2621            0           1           1           0    ...              0   \n",
       "3226            0           1           0           1    ...              0   \n",
       "5390            0           0           0           1    ...              0   \n",
       "5466            1           1           1           1    ...              1   \n",
       "6330            0           1           0           1    ...              0   \n",
       "6549            1           0           0           0    ...              0   \n",
       "6998            0           0           0           0    ...              0   \n",
       "7239            0           1           1           0    ...              0   \n",
       "7331            0           1           1           1    ...              0   \n",
       "7604            0           1           0           0    ...              1   \n",
       "7723            0           1           1           1    ...              0   \n",
       "7944            1           1           0           1    ...              0   \n",
       "9516            0           1           0           0    ...              1   \n",
       "10485           1           0           0           1    ...              0   \n",
       "11317           0           0           1           0    ...              0   \n",
       "11612           0           1           0           1    ...              0   \n",
       "12984           0           1           1           0    ...              0   \n",
       "\n",
       "       society_11  society_12  area_type  size   total_sqft  balcony  \\\n",
       "647             1           1       1.15   9.0  1123031.250      2.0   \n",
       "673             1           1       1.15   3.0    35000.000      3.0   \n",
       "1018            1           1       5.00   1.0   231303.600      0.0   \n",
       "1085            1           1       5.00   2.0  1306800.000      2.0   \n",
       "1892            1           1       5.00   3.0    52272.000      1.0   \n",
       "2621            1           1       5.00   4.0    30000.000      2.0   \n",
       "3226            1           1       1.15   5.0    32722.256      1.0   \n",
       "5390            1           1       1.80   9.0    42000.000      3.0   \n",
       "5466            1           0       1.80   4.0    36000.000      2.0   \n",
       "6330            1           1       5.00   2.0    91040.400      0.0   \n",
       "6549            1           1       5.00   5.0    26136.000      2.0   \n",
       "6998            1           1       5.00   8.0   653415.000      2.0   \n",
       "7239            1           1       5.00   1.0    26136.000      0.0   \n",
       "7331            1           1       5.00   1.0    87120.000      0.0   \n",
       "7604            1           1       5.00   3.0   653400.000      1.0   \n",
       "7723            1           1       5.00   1.0    54885.600      0.0   \n",
       "7944            1           1       5.00   3.0    20000.000      2.0   \n",
       "9516            1           1       1.15   3.0    26460.000      1.0   \n",
       "10485           1           1       5.00   2.0    54450.000      2.0   \n",
       "11317           1           1       5.00   1.0    41382.000      0.0   \n",
       "11612           1           1       5.00   3.0   261360.000      0.0   \n",
       "12984           1           1       5.00   6.0    30400.000      2.0   \n",
       "\n",
       "       is_society  isready     price  \n",
       "647             0      2.0  5.583496  \n",
       "673             0      2.0  4.875197  \n",
       "1018            0      0.0  4.709530  \n",
       "1085            0      0.0  3.417727  \n",
       "1892            0      2.0  4.948760  \n",
       "2621            0      0.0  7.650169  \n",
       "3226            0      2.0  4.948760  \n",
       "5390            0      2.0  5.170484  \n",
       "5466            0      2.0  6.111467  \n",
       "6330            0      2.0  5.303305  \n",
       "6549            0      2.0  6.311735  \n",
       "6998            0      2.0  5.673323  \n",
       "7239            0      2.0  5.017280  \n",
       "7331            0      2.0  4.836282  \n",
       "7604            0      2.0  5.384495  \n",
       "7723            0      2.0  4.836282  \n",
       "7944            0      2.0  5.170484  \n",
       "9516            0      2.0  5.451038  \n",
       "10485           0      2.0  5.303305  \n",
       "11317           0      2.0  5.141664  \n",
       "11612           0      2.0  4.394449  \n",
       "12984           0      2.0  7.509335  \n",
       "\n",
       "[22 rows x 32 columns]"
      ]
     },
     "execution_count": 35,
     "metadata": {},
     "output_type": "execute_result"
    }
   ],
   "source": [
    "train[train['total_sqft']>= 20000]"
   ]
  },
  {
   "cell_type": "code",
   "execution_count": 36,
   "metadata": {},
   "outputs": [],
   "source": [
    "train = train.drop(train[(train['total_sqft']>=20000) \n",
    "                         & (train['price']<=1000)].index).reset_index(drop=True)"
   ]
  },
  {
   "cell_type": "code",
   "execution_count": 37,
   "metadata": {},
   "outputs": [
    {
     "name": "stderr",
     "output_type": "stream",
     "text": [
      "C:\\Users\\NITIN\\Anaconda3\\lib\\site-packages\\matplotlib\\axes\\_axes.py:6462: UserWarning: The 'normed' kwarg is deprecated, and has been replaced by the 'density' kwarg.\n",
      "  warnings.warn(\"The 'normed' kwarg is deprecated, and has been \"\n"
     ]
    },
    {
     "data": {
      "text/plain": [
       "<matplotlib.axes._subplots.AxesSubplot at 0x1f7f59c0940>"
      ]
     },
     "execution_count": 37,
     "metadata": {},
     "output_type": "execute_result"
    },
    {
     "data": {
      "image/png": "[encoded data removed]",
      "text/plain": [
       "<Figure size 432x288 with 1 Axes>"
      ]
     },
     "metadata": {},
     "output_type": "display_data"
    }
   ],
   "source": [
    "sns.distplot(train['total_sqft'], fit = norm)"
   ]
  },
  {
   "cell_type": "code",
   "execution_count": 38,
   "metadata": {},
   "outputs": [
    {
     "data": {
      "text/plain": [
       "<matplotlib.collections.PathCollection at 0x1f7f5aa5dd8>"
      ]
     },
     "execution_count": 38,
     "metadata": {},
     "output_type": "execute_result"
    },
    {
     "data": {
      "image/png": "[encoded data removed]",
      "text/plain": [
       "<Figure size 432x288 with 1 Axes>"
      ]
     },
     "metadata": {},
     "output_type": "display_data"
    }
   ],
   "source": [
    "plt.scatter(train['balcony'] ,train['size'])"
   ]
  },
  {
   "cell_type": "code",
   "execution_count": 39,
   "metadata": {},
   "outputs": [
    {
     "data": {
      "text/html": [
       "<div>\n",
       "<style scoped>\n",
       "    .dataframe tbody tr th:only-of-type {\n",
       "        vertical-align: middle;\n",
       "    }\n",
       "\n",
       "    .dataframe tbody tr th {\n",
       "        vertical-align: top;\n",
       "    }\n",
       "\n",
       "    .dataframe thead th {\n",
       "        text-align: right;\n",
       "    }\n",
       "</style>\n",
       "<table border=\"1\" class=\"dataframe\">\n",
       "  <thead>\n",
       "    <tr style=\"text-align: right;\">\n",
       "      <th></th>\n",
       "      <th>location_0</th>\n",
       "      <th>location_1</th>\n",
       "      <th>location_2</th>\n",
       "      <th>location_3</th>\n",
       "      <th>location_4</th>\n",
       "      <th>location_5</th>\n",
       "      <th>location_6</th>\n",
       "      <th>location_7</th>\n",
       "      <th>location_8</th>\n",
       "      <th>location_9</th>\n",
       "      <th>...</th>\n",
       "      <th>society_10</th>\n",
       "      <th>society_11</th>\n",
       "      <th>society_12</th>\n",
       "      <th>area_type</th>\n",
       "      <th>size</th>\n",
       "      <th>total_sqft</th>\n",
       "      <th>balcony</th>\n",
       "      <th>is_society</th>\n",
       "      <th>isready</th>\n",
       "      <th>price</th>\n",
       "    </tr>\n",
       "  </thead>\n",
       "  <tbody>\n",
       "    <tr>\n",
       "      <th>location_0</th>\n",
       "      <td>NaN</td>\n",
       "      <td>NaN</td>\n",
       "      <td>NaN</td>\n",
       "      <td>NaN</td>\n",
       "      <td>NaN</td>\n",
       "      <td>NaN</td>\n",
       "      <td>NaN</td>\n",
       "      <td>NaN</td>\n",
       "      <td>NaN</td>\n",
       "      <td>NaN</td>\n",
       "      <td>...</td>\n",
       "      <td>NaN</td>\n",
       "      <td>NaN</td>\n",
       "      <td>NaN</td>\n",
       "      <td>NaN</td>\n",
       "      <td>NaN</td>\n",
       "      <td>NaN</td>\n",
       "      <td>NaN</td>\n",
       "      <td>NaN</td>\n",
       "      <td>NaN</td>\n",
       "      <td>NaN</td>\n",
       "    </tr>\n",
       "    <tr>\n",
       "      <th>location_1</th>\n",
       "      <td>NaN</td>\n",
       "      <td>1.000000</td>\n",
       "      <td>-0.062255</td>\n",
       "      <td>-0.061500</td>\n",
       "      <td>0.034532</td>\n",
       "      <td>0.032336</td>\n",
       "      <td>-0.000776</td>\n",
       "      <td>0.000394</td>\n",
       "      <td>0.003610</td>\n",
       "      <td>0.007424</td>\n",
       "      <td>...</td>\n",
       "      <td>-0.073131</td>\n",
       "      <td>0.067100</td>\n",
       "      <td>0.061425</td>\n",
       "      <td>0.067355</td>\n",
       "      <td>0.047112</td>\n",
       "      <td>0.025281</td>\n",
       "      <td>-0.025274</td>\n",
       "      <td>NaN</td>\n",
       "      <td>0.019483</td>\n",
       "      <td>0.027833</td>\n",
       "    </tr>\n",
       "    <tr>\n",
       "      <th>location_2</th>\n",
       "      <td>NaN</td>\n",
       "      <td>-0.062255</td>\n",
       "      <td>1.000000</td>\n",
       "      <td>0.131394</td>\n",
       "      <td>0.067071</td>\n",
       "      <td>0.070508</td>\n",
       "      <td>0.057630</td>\n",
       "      <td>0.012774</td>\n",
       "      <td>0.010540</td>\n",
       "      <td>0.010661</td>\n",
       "      <td>...</td>\n",
       "      <td>-0.097441</td>\n",
       "      <td>0.103889</td>\n",
       "      <td>0.073158</td>\n",
       "      <td>0.115994</td>\n",
       "      <td>0.076477</td>\n",
       "      <td>0.011752</td>\n",
       "      <td>0.002528</td>\n",
       "      <td>NaN</td>\n",
       "      <td>0.073039</td>\n",
       "      <td>0.080074</td>\n",
       "    </tr>\n",
       "    <tr>\n",
       "      <th>location_3</th>\n",
       "      <td>NaN</td>\n",
       "      <td>-0.061500</td>\n",
       "      <td>0.131394</td>\n",
       "      <td>1.000000</td>\n",
       "      <td>0.089917</td>\n",
       "      <td>0.121422</td>\n",
       "      <td>0.091171</td>\n",
       "      <td>-0.016986</td>\n",
       "      <td>0.024086</td>\n",
       "      <td>0.008881</td>\n",
       "      <td>...</td>\n",
       "      <td>-0.080677</td>\n",
       "      <td>0.101673</td>\n",
       "      <td>0.100139</td>\n",
       "      <td>0.091059</td>\n",
       "      <td>0.071303</td>\n",
       "      <td>0.025691</td>\n",
       "      <td>-0.000924</td>\n",
       "      <td>NaN</td>\n",
       "      <td>0.091932</td>\n",
       "      <td>0.062189</td>\n",
       "    </tr>\n",
       "    <tr>\n",
       "      <th>location_4</th>\n",
       "      <td>NaN</td>\n",
       "      <td>0.034532</td>\n",
       "      <td>0.067071</td>\n",
       "      <td>0.089917</td>\n",
       "      <td>1.000000</td>\n",
       "      <td>0.173845</td>\n",
       "      <td>0.111465</td>\n",
       "      <td>-0.026106</td>\n",
       "      <td>0.032889</td>\n",
       "      <td>-0.036483</td>\n",
       "      <td>...</td>\n",
       "      <td>-0.059283</td>\n",
       "      <td>0.080419</td>\n",
       "      <td>0.035157</td>\n",
       "      <td>0.059984</td>\n",
       "      <td>0.052344</td>\n",
       "      <td>0.018465</td>\n",
       "      <td>0.012870</td>\n",
       "      <td>NaN</td>\n",
       "      <td>0.070902</td>\n",
       "      <td>0.062761</td>\n",
       "    </tr>\n",
       "    <tr>\n",
       "      <th>location_5</th>\n",
       "      <td>NaN</td>\n",
       "      <td>0.032336</td>\n",
       "      <td>0.070508</td>\n",
       "      <td>0.121422</td>\n",
       "      <td>0.173845</td>\n",
       "      <td>1.000000</td>\n",
       "      <td>0.033779</td>\n",
       "      <td>0.034677</td>\n",
       "      <td>0.001499</td>\n",
       "      <td>-0.051665</td>\n",
       "      <td>...</td>\n",
       "      <td>-0.082577</td>\n",
       "      <td>0.063731</td>\n",
       "      <td>0.022860</td>\n",
       "      <td>0.047103</td>\n",
       "      <td>0.029157</td>\n",
       "      <td>-0.008929</td>\n",
       "      <td>0.016144</td>\n",
       "      <td>NaN</td>\n",
       "      <td>0.078490</td>\n",
       "      <td>0.024898</td>\n",
       "    </tr>\n",
       "    <tr>\n",
       "      <th>location_6</th>\n",
       "      <td>NaN</td>\n",
       "      <td>-0.000776</td>\n",
       "      <td>0.057630</td>\n",
       "      <td>0.091171</td>\n",
       "      <td>0.111465</td>\n",
       "      <td>0.033779</td>\n",
       "      <td>1.000000</td>\n",
       "      <td>-0.070095</td>\n",
       "      <td>-0.097073</td>\n",
       "      <td>0.055094</td>\n",
       "      <td>...</td>\n",
       "      <td>-0.008186</td>\n",
       "      <td>0.018456</td>\n",
       "      <td>0.036388</td>\n",
       "      <td>0.028111</td>\n",
       "      <td>0.036122</td>\n",
       "      <td>0.005691</td>\n",
       "      <td>0.008942</td>\n",
       "      <td>NaN</td>\n",
       "      <td>0.042527</td>\n",
       "      <td>0.046406</td>\n",
       "    </tr>\n",
       "    <tr>\n",
       "      <th>location_7</th>\n",
       "      <td>NaN</td>\n",
       "      <td>0.000394</td>\n",
       "      <td>0.012774</td>\n",
       "      <td>-0.016986</td>\n",
       "      <td>-0.026106</td>\n",
       "      <td>0.034677</td>\n",
       "      <td>-0.070095</td>\n",
       "      <td>1.000000</td>\n",
       "      <td>0.047098</td>\n",
       "      <td>0.039272</td>\n",
       "      <td>...</td>\n",
       "      <td>-0.023122</td>\n",
       "      <td>-0.009679</td>\n",
       "      <td>0.033254</td>\n",
       "      <td>-0.021865</td>\n",
       "      <td>0.004510</td>\n",
       "      <td>-0.012865</td>\n",
       "      <td>0.010143</td>\n",
       "      <td>NaN</td>\n",
       "      <td>0.010479</td>\n",
       "      <td>-0.011023</td>\n",
       "    </tr>\n",
       "    <tr>\n",
       "      <th>location_8</th>\n",
       "      <td>NaN</td>\n",
       "      <td>0.003610</td>\n",
       "      <td>0.010540</td>\n",
       "      <td>0.024086</td>\n",
       "      <td>0.032889</td>\n",
       "      <td>0.001499</td>\n",
       "      <td>-0.097073</td>\n",
       "      <td>0.047098</td>\n",
       "      <td>1.000000</td>\n",
       "      <td>-0.059021</td>\n",
       "      <td>...</td>\n",
       "      <td>-0.012452</td>\n",
       "      <td>0.012018</td>\n",
       "      <td>0.003034</td>\n",
       "      <td>-0.001986</td>\n",
       "      <td>-0.014827</td>\n",
       "      <td>-0.021211</td>\n",
       "      <td>-0.045602</td>\n",
       "      <td>NaN</td>\n",
       "      <td>-0.040149</td>\n",
       "      <td>-0.004905</td>\n",
       "    </tr>\n",
       "    <tr>\n",
       "      <th>location_9</th>\n",
       "      <td>NaN</td>\n",
       "      <td>0.007424</td>\n",
       "      <td>0.010661</td>\n",
       "      <td>0.008881</td>\n",
       "      <td>-0.036483</td>\n",
       "      <td>-0.051665</td>\n",
       "      <td>0.055094</td>\n",
       "      <td>0.039272</td>\n",
       "      <td>-0.059021</td>\n",
       "      <td>1.000000</td>\n",
       "      <td>...</td>\n",
       "      <td>0.020569</td>\n",
       "      <td>-0.016536</td>\n",
       "      <td>-0.002252</td>\n",
       "      <td>0.032325</td>\n",
       "      <td>0.015136</td>\n",
       "      <td>0.009610</td>\n",
       "      <td>0.003416</td>\n",
       "      <td>NaN</td>\n",
       "      <td>-0.034785</td>\n",
       "      <td>0.029250</td>\n",
       "    </tr>\n",
       "    <tr>\n",
       "      <th>location_10</th>\n",
       "      <td>NaN</td>\n",
       "      <td>0.003859</td>\n",
       "      <td>-0.018148</td>\n",
       "      <td>-0.018331</td>\n",
       "      <td>-0.058906</td>\n",
       "      <td>-0.057659</td>\n",
       "      <td>0.040316</td>\n",
       "      <td>0.001200</td>\n",
       "      <td>-0.102392</td>\n",
       "      <td>0.032069</td>\n",
       "      <td>...</td>\n",
       "      <td>-0.003544</td>\n",
       "      <td>-0.020664</td>\n",
       "      <td>-0.012639</td>\n",
       "      <td>-0.003121</td>\n",
       "      <td>-0.001273</td>\n",
       "      <td>0.007826</td>\n",
       "      <td>0.014114</td>\n",
       "      <td>NaN</td>\n",
       "      <td>-0.010785</td>\n",
       "      <td>0.023832</td>\n",
       "    </tr>\n",
       "    <tr>\n",
       "      <th>location_11</th>\n",
       "      <td>NaN</td>\n",
       "      <td>-0.010283</td>\n",
       "      <td>-0.014509</td>\n",
       "      <td>-0.006939</td>\n",
       "      <td>-0.069195</td>\n",
       "      <td>-0.065164</td>\n",
       "      <td>0.039560</td>\n",
       "      <td>-0.002301</td>\n",
       "      <td>-0.012090</td>\n",
       "      <td>-0.102398</td>\n",
       "      <td>...</td>\n",
       "      <td>-0.019044</td>\n",
       "      <td>0.031189</td>\n",
       "      <td>-0.028932</td>\n",
       "      <td>-0.012093</td>\n",
       "      <td>-0.010391</td>\n",
       "      <td>-0.024401</td>\n",
       "      <td>-0.018403</td>\n",
       "      <td>NaN</td>\n",
       "      <td>0.057789</td>\n",
       "      <td>-0.043281</td>\n",
       "    </tr>\n",
       "    <tr>\n",
       "      <th>society_0</th>\n",
       "      <td>NaN</td>\n",
       "      <td>NaN</td>\n",
       "      <td>NaN</td>\n",
       "      <td>NaN</td>\n",
       "      <td>NaN</td>\n",
       "      <td>NaN</td>\n",
       "      <td>NaN</td>\n",
       "      <td>NaN</td>\n",
       "      <td>NaN</td>\n",
       "      <td>NaN</td>\n",
       "      <td>...</td>\n",
       "      <td>NaN</td>\n",
       "      <td>NaN</td>\n",
       "      <td>NaN</td>\n",
       "      <td>NaN</td>\n",
       "      <td>NaN</td>\n",
       "      <td>NaN</td>\n",
       "      <td>NaN</td>\n",
       "      <td>NaN</td>\n",
       "      <td>NaN</td>\n",
       "      <td>NaN</td>\n",
       "    </tr>\n",
       "    <tr>\n",
       "      <th>society_1</th>\n",
       "      <td>NaN</td>\n",
       "      <td>0.093153</td>\n",
       "      <td>0.015622</td>\n",
       "      <td>-0.006475</td>\n",
       "      <td>0.006700</td>\n",
       "      <td>0.012096</td>\n",
       "      <td>0.010422</td>\n",
       "      <td>0.012811</td>\n",
       "      <td>-0.030439</td>\n",
       "      <td>0.013644</td>\n",
       "      <td>...</td>\n",
       "      <td>0.104894</td>\n",
       "      <td>-0.093711</td>\n",
       "      <td>-0.111190</td>\n",
       "      <td>-0.056727</td>\n",
       "      <td>-0.051529</td>\n",
       "      <td>-0.004241</td>\n",
       "      <td>0.023313</td>\n",
       "      <td>NaN</td>\n",
       "      <td>0.062863</td>\n",
       "      <td>-0.024365</td>\n",
       "    </tr>\n",
       "    <tr>\n",
       "      <th>society_2</th>\n",
       "      <td>NaN</td>\n",
       "      <td>-0.051607</td>\n",
       "      <td>0.046586</td>\n",
       "      <td>0.026565</td>\n",
       "      <td>0.001413</td>\n",
       "      <td>0.015690</td>\n",
       "      <td>0.024727</td>\n",
       "      <td>0.005407</td>\n",
       "      <td>-0.010483</td>\n",
       "      <td>-0.048048</td>\n",
       "      <td>...</td>\n",
       "      <td>0.174854</td>\n",
       "      <td>-0.165308</td>\n",
       "      <td>-0.185061</td>\n",
       "      <td>-0.101540</td>\n",
       "      <td>-0.074560</td>\n",
       "      <td>0.002810</td>\n",
       "      <td>0.059576</td>\n",
       "      <td>NaN</td>\n",
       "      <td>0.075090</td>\n",
       "      <td>-0.028378</td>\n",
       "    </tr>\n",
       "    <tr>\n",
       "      <th>society_3</th>\n",
       "      <td>NaN</td>\n",
       "      <td>-0.052021</td>\n",
       "      <td>0.013953</td>\n",
       "      <td>0.002201</td>\n",
       "      <td>0.015617</td>\n",
       "      <td>-0.024478</td>\n",
       "      <td>0.049089</td>\n",
       "      <td>-0.028139</td>\n",
       "      <td>-0.054875</td>\n",
       "      <td>-0.008727</td>\n",
       "      <td>...</td>\n",
       "      <td>0.220218</td>\n",
       "      <td>-0.203491</td>\n",
       "      <td>-0.209217</td>\n",
       "      <td>-0.128006</td>\n",
       "      <td>-0.094165</td>\n",
       "      <td>-0.008899</td>\n",
       "      <td>0.043579</td>\n",
       "      <td>NaN</td>\n",
       "      <td>-0.000774</td>\n",
       "      <td>-0.034211</td>\n",
       "    </tr>\n",
       "    <tr>\n",
       "      <th>society_4</th>\n",
       "      <td>NaN</td>\n",
       "      <td>-0.056149</td>\n",
       "      <td>-0.059949</td>\n",
       "      <td>-0.002545</td>\n",
       "      <td>-0.009382</td>\n",
       "      <td>-0.025624</td>\n",
       "      <td>0.009777</td>\n",
       "      <td>-0.003293</td>\n",
       "      <td>-0.027670</td>\n",
       "      <td>-0.012110</td>\n",
       "      <td>...</td>\n",
       "      <td>0.279605</td>\n",
       "      <td>-0.243727</td>\n",
       "      <td>-0.260270</td>\n",
       "      <td>-0.152374</td>\n",
       "      <td>-0.097605</td>\n",
       "      <td>0.032197</td>\n",
       "      <td>0.025725</td>\n",
       "      <td>NaN</td>\n",
       "      <td>0.032128</td>\n",
       "      <td>-0.012938</td>\n",
       "    </tr>\n",
       "    <tr>\n",
       "      <th>society_5</th>\n",
       "      <td>NaN</td>\n",
       "      <td>-0.070859</td>\n",
       "      <td>-0.059328</td>\n",
       "      <td>-0.109909</td>\n",
       "      <td>0.057785</td>\n",
       "      <td>-0.037388</td>\n",
       "      <td>0.016353</td>\n",
       "      <td>-0.062989</td>\n",
       "      <td>-0.023705</td>\n",
       "      <td>-0.004561</td>\n",
       "      <td>...</td>\n",
       "      <td>0.254028</td>\n",
       "      <td>-0.237731</td>\n",
       "      <td>-0.300389</td>\n",
       "      <td>-0.156336</td>\n",
       "      <td>-0.108223</td>\n",
       "      <td>0.007905</td>\n",
       "      <td>0.054135</td>\n",
       "      <td>NaN</td>\n",
       "      <td>0.001973</td>\n",
       "      <td>-0.030083</td>\n",
       "    </tr>\n",
       "    <tr>\n",
       "      <th>society_6</th>\n",
       "      <td>NaN</td>\n",
       "      <td>-0.058678</td>\n",
       "      <td>-0.055026</td>\n",
       "      <td>-0.041889</td>\n",
       "      <td>-0.049115</td>\n",
       "      <td>-0.005041</td>\n",
       "      <td>0.008823</td>\n",
       "      <td>-0.028355</td>\n",
       "      <td>-0.020560</td>\n",
       "      <td>-0.028122</td>\n",
       "      <td>...</td>\n",
       "      <td>0.261384</td>\n",
       "      <td>-0.249381</td>\n",
       "      <td>-0.293997</td>\n",
       "      <td>-0.175001</td>\n",
       "      <td>-0.109562</td>\n",
       "      <td>-0.007346</td>\n",
       "      <td>0.009132</td>\n",
       "      <td>NaN</td>\n",
       "      <td>-0.043156</td>\n",
       "      <td>-0.044115</td>\n",
       "    </tr>\n",
       "    <tr>\n",
       "      <th>society_7</th>\n",
       "      <td>NaN</td>\n",
       "      <td>-0.061402</td>\n",
       "      <td>-0.091918</td>\n",
       "      <td>-0.090864</td>\n",
       "      <td>-0.046048</td>\n",
       "      <td>-0.064922</td>\n",
       "      <td>0.041873</td>\n",
       "      <td>-0.038065</td>\n",
       "      <td>-0.011156</td>\n",
       "      <td>0.005062</td>\n",
       "      <td>...</td>\n",
       "      <td>0.319861</td>\n",
       "      <td>-0.301983</td>\n",
       "      <td>-0.242774</td>\n",
       "      <td>-0.180831</td>\n",
       "      <td>-0.113783</td>\n",
       "      <td>0.020638</td>\n",
       "      <td>0.054735</td>\n",
       "      <td>NaN</td>\n",
       "      <td>-0.014022</td>\n",
       "      <td>0.002651</td>\n",
       "    </tr>\n",
       "    <tr>\n",
       "      <th>society_8</th>\n",
       "      <td>NaN</td>\n",
       "      <td>-0.081296</td>\n",
       "      <td>-0.105476</td>\n",
       "      <td>-0.093888</td>\n",
       "      <td>-0.049785</td>\n",
       "      <td>-0.050532</td>\n",
       "      <td>-0.044069</td>\n",
       "      <td>-0.016845</td>\n",
       "      <td>-0.034936</td>\n",
       "      <td>0.015115</td>\n",
       "      <td>...</td>\n",
       "      <td>0.282709</td>\n",
       "      <td>-0.312202</td>\n",
       "      <td>-0.308721</td>\n",
       "      <td>-0.195284</td>\n",
       "      <td>-0.128775</td>\n",
       "      <td>-0.021596</td>\n",
       "      <td>0.040108</td>\n",
       "      <td>NaN</td>\n",
       "      <td>-0.068491</td>\n",
       "      <td>-0.056353</td>\n",
       "    </tr>\n",
       "    <tr>\n",
       "      <th>society_9</th>\n",
       "      <td>NaN</td>\n",
       "      <td>-0.068364</td>\n",
       "      <td>-0.095835</td>\n",
       "      <td>-0.069551</td>\n",
       "      <td>-0.034832</td>\n",
       "      <td>-0.056754</td>\n",
       "      <td>-0.006429</td>\n",
       "      <td>-0.024539</td>\n",
       "      <td>-0.030799</td>\n",
       "      <td>-0.025781</td>\n",
       "      <td>...</td>\n",
       "      <td>0.313314</td>\n",
       "      <td>-0.322363</td>\n",
       "      <td>-0.292173</td>\n",
       "      <td>-0.156684</td>\n",
       "      <td>-0.115063</td>\n",
       "      <td>0.004198</td>\n",
       "      <td>0.034076</td>\n",
       "      <td>NaN</td>\n",
       "      <td>-0.041978</td>\n",
       "      <td>-0.034394</td>\n",
       "    </tr>\n",
       "    <tr>\n",
       "      <th>society_10</th>\n",
       "      <td>NaN</td>\n",
       "      <td>-0.073131</td>\n",
       "      <td>-0.097441</td>\n",
       "      <td>-0.080677</td>\n",
       "      <td>-0.059283</td>\n",
       "      <td>-0.082577</td>\n",
       "      <td>-0.008186</td>\n",
       "      <td>-0.023122</td>\n",
       "      <td>-0.012452</td>\n",
       "      <td>0.020569</td>\n",
       "      <td>...</td>\n",
       "      <td>1.000000</td>\n",
       "      <td>-0.303774</td>\n",
       "      <td>-0.293565</td>\n",
       "      <td>-0.173489</td>\n",
       "      <td>-0.114558</td>\n",
       "      <td>0.021288</td>\n",
       "      <td>0.038710</td>\n",
       "      <td>NaN</td>\n",
       "      <td>-0.072107</td>\n",
       "      <td>0.000697</td>\n",
       "    </tr>\n",
       "    <tr>\n",
       "      <th>society_11</th>\n",
       "      <td>NaN</td>\n",
       "      <td>0.067100</td>\n",
       "      <td>0.103889</td>\n",
       "      <td>0.101673</td>\n",
       "      <td>0.080419</td>\n",
       "      <td>0.063731</td>\n",
       "      <td>0.018456</td>\n",
       "      <td>-0.009679</td>\n",
       "      <td>0.012018</td>\n",
       "      <td>-0.016536</td>\n",
       "      <td>...</td>\n",
       "      <td>-0.303774</td>\n",
       "      <td>1.000000</td>\n",
       "      <td>0.308309</td>\n",
       "      <td>0.190265</td>\n",
       "      <td>0.128373</td>\n",
       "      <td>0.014377</td>\n",
       "      <td>-0.008968</td>\n",
       "      <td>NaN</td>\n",
       "      <td>0.059349</td>\n",
       "      <td>0.045666</td>\n",
       "    </tr>\n",
       "    <tr>\n",
       "      <th>society_12</th>\n",
       "      <td>NaN</td>\n",
       "      <td>0.061425</td>\n",
       "      <td>0.073158</td>\n",
       "      <td>0.100139</td>\n",
       "      <td>0.035157</td>\n",
       "      <td>0.022860</td>\n",
       "      <td>0.036388</td>\n",
       "      <td>0.033254</td>\n",
       "      <td>0.003034</td>\n",
       "      <td>-0.002252</td>\n",
       "      <td>...</td>\n",
       "      <td>-0.293565</td>\n",
       "      <td>0.308309</td>\n",
       "      <td>1.000000</td>\n",
       "      <td>0.179905</td>\n",
       "      <td>0.125881</td>\n",
       "      <td>0.024289</td>\n",
       "      <td>-0.016657</td>\n",
       "      <td>NaN</td>\n",
       "      <td>0.065824</td>\n",
       "      <td>0.075355</td>\n",
       "    </tr>\n",
       "    <tr>\n",
       "      <th>area_type</th>\n",
       "      <td>NaN</td>\n",
       "      <td>0.067355</td>\n",
       "      <td>0.115994</td>\n",
       "      <td>0.091059</td>\n",
       "      <td>0.059984</td>\n",
       "      <td>0.047103</td>\n",
       "      <td>0.028111</td>\n",
       "      <td>-0.021865</td>\n",
       "      <td>-0.001986</td>\n",
       "      <td>0.032325</td>\n",
       "      <td>...</td>\n",
       "      <td>-0.173489</td>\n",
       "      <td>0.190265</td>\n",
       "      <td>0.179905</td>\n",
       "      <td>1.000000</td>\n",
       "      <td>0.399547</td>\n",
       "      <td>0.093112</td>\n",
       "      <td>-0.060386</td>\n",
       "      <td>NaN</td>\n",
       "      <td>0.070263</td>\n",
       "      <td>0.331737</td>\n",
       "    </tr>\n",
       "    <tr>\n",
       "      <th>size</th>\n",
       "      <td>NaN</td>\n",
       "      <td>0.047112</td>\n",
       "      <td>0.076477</td>\n",
       "      <td>0.071303</td>\n",
       "      <td>0.052344</td>\n",
       "      <td>0.029157</td>\n",
       "      <td>0.036122</td>\n",
       "      <td>0.004510</td>\n",
       "      <td>-0.014827</td>\n",
       "      <td>0.015136</td>\n",
       "      <td>...</td>\n",
       "      <td>-0.114558</td>\n",
       "      <td>0.128373</td>\n",
       "      <td>0.125881</td>\n",
       "      <td>0.399547</td>\n",
       "      <td>1.000000</td>\n",
       "      <td>0.442223</td>\n",
       "      <td>0.212262</td>\n",
       "      <td>NaN</td>\n",
       "      <td>0.102895</td>\n",
       "      <td>0.591076</td>\n",
       "    </tr>\n",
       "    <tr>\n",
       "      <th>total_sqft</th>\n",
       "      <td>NaN</td>\n",
       "      <td>0.025281</td>\n",
       "      <td>0.011752</td>\n",
       "      <td>0.025691</td>\n",
       "      <td>0.018465</td>\n",
       "      <td>-0.008929</td>\n",
       "      <td>0.005691</td>\n",
       "      <td>-0.012865</td>\n",
       "      <td>-0.021211</td>\n",
       "      <td>0.009610</td>\n",
       "      <td>...</td>\n",
       "      <td>0.021288</td>\n",
       "      <td>0.014377</td>\n",
       "      <td>0.024289</td>\n",
       "      <td>0.093112</td>\n",
       "      <td>0.442223</td>\n",
       "      <td>1.000000</td>\n",
       "      <td>0.193184</td>\n",
       "      <td>NaN</td>\n",
       "      <td>0.024246</td>\n",
       "      <td>0.693669</td>\n",
       "    </tr>\n",
       "    <tr>\n",
       "      <th>balcony</th>\n",
       "      <td>NaN</td>\n",
       "      <td>-0.025274</td>\n",
       "      <td>0.002528</td>\n",
       "      <td>-0.000924</td>\n",
       "      <td>0.012870</td>\n",
       "      <td>0.016144</td>\n",
       "      <td>0.008942</td>\n",
       "      <td>0.010143</td>\n",
       "      <td>-0.045602</td>\n",
       "      <td>0.003416</td>\n",
       "      <td>...</td>\n",
       "      <td>0.038710</td>\n",
       "      <td>-0.008968</td>\n",
       "      <td>-0.016657</td>\n",
       "      <td>-0.060386</td>\n",
       "      <td>0.212262</td>\n",
       "      <td>0.193184</td>\n",
       "      <td>1.000000</td>\n",
       "      <td>NaN</td>\n",
       "      <td>0.114563</td>\n",
       "      <td>0.208885</td>\n",
       "    </tr>\n",
       "    <tr>\n",
       "      <th>is_society</th>\n",
       "      <td>NaN</td>\n",
       "      <td>NaN</td>\n",
       "      <td>NaN</td>\n",
       "      <td>NaN</td>\n",
       "      <td>NaN</td>\n",
       "      <td>NaN</td>\n",
       "      <td>NaN</td>\n",
       "      <td>NaN</td>\n",
       "      <td>NaN</td>\n",
       "      <td>NaN</td>\n",
       "      <td>...</td>\n",
       "      <td>NaN</td>\n",
       "      <td>NaN</td>\n",
       "      <td>NaN</td>\n",
       "      <td>NaN</td>\n",
       "      <td>NaN</td>\n",
       "      <td>NaN</td>\n",
       "      <td>NaN</td>\n",
       "      <td>NaN</td>\n",
       "      <td>NaN</td>\n",
       "      <td>NaN</td>\n",
       "    </tr>\n",
       "    <tr>\n",
       "      <th>isready</th>\n",
       "      <td>NaN</td>\n",
       "      <td>0.019483</td>\n",
       "      <td>0.073039</td>\n",
       "      <td>0.091932</td>\n",
       "      <td>0.070902</td>\n",
       "      <td>0.078490</td>\n",
       "      <td>0.042527</td>\n",
       "      <td>0.010479</td>\n",
       "      <td>-0.040149</td>\n",
       "      <td>-0.034785</td>\n",
       "      <td>...</td>\n",
       "      <td>-0.072107</td>\n",
       "      <td>0.059349</td>\n",
       "      <td>0.065824</td>\n",
       "      <td>0.070263</td>\n",
       "      <td>0.102895</td>\n",
       "      <td>0.024246</td>\n",
       "      <td>0.114563</td>\n",
       "      <td>NaN</td>\n",
       "      <td>1.000000</td>\n",
       "      <td>0.085630</td>\n",
       "    </tr>\n",
       "    <tr>\n",
       "      <th>price</th>\n",
       "      <td>NaN</td>\n",
       "      <td>0.027833</td>\n",
       "      <td>0.080074</td>\n",
       "      <td>0.062189</td>\n",
       "      <td>0.062761</td>\n",
       "      <td>0.024898</td>\n",
       "      <td>0.046406</td>\n",
       "      <td>-0.011023</td>\n",
       "      <td>-0.004905</td>\n",
       "      <td>0.029250</td>\n",
       "      <td>...</td>\n",
       "      <td>0.000697</td>\n",
       "      <td>0.045666</td>\n",
       "      <td>0.075355</td>\n",
       "      <td>0.331737</td>\n",
       "      <td>0.591076</td>\n",
       "      <td>0.693669</td>\n",
       "      <td>0.208885</td>\n",
       "      <td>NaN</td>\n",
       "      <td>0.085630</td>\n",
       "      <td>1.000000</td>\n",
       "    </tr>\n",
       "  </tbody>\n",
       "</table>\n",
       "<p>32 rows × 32 columns</p>\n",
       "</div>"
      ],
      "text/plain": [
       "             location_0  location_1  location_2  location_3  location_4  \\\n",
       "location_0          NaN         NaN         NaN         NaN         NaN   \n",
       "location_1          NaN    1.000000   -0.062255   -0.061500    0.034532   \n",
       "location_2          NaN   -0.062255    1.000000    0.131394    0.067071   \n",
       "location_3          NaN   -0.061500    0.131394    1.000000    0.089917   \n",
       "location_4          NaN    0.034532    0.067071    0.089917    1.000000   \n",
       "location_5          NaN    0.032336    0.070508    0.121422    0.173845   \n",
       "location_6          NaN   -0.000776    0.057630    0.091171    0.111465   \n",
       "location_7          NaN    0.000394    0.012774   -0.016986   -0.026106   \n",
       "location_8          NaN    0.003610    0.010540    0.024086    0.032889   \n",
       "location_9          NaN    0.007424    0.010661    0.008881   -0.036483   \n",
       "location_10         NaN    0.003859   -0.018148   -0.018331   -0.058906   \n",
       "location_11         NaN   -0.010283   -0.014509   -0.006939   -0.069195   \n",
       "society_0           NaN         NaN         NaN         NaN         NaN   \n",
       "society_1           NaN    0.093153    0.015622   -0.006475    0.006700   \n",
       "society_2           NaN   -0.051607    0.046586    0.026565    0.001413   \n",
       "society_3           NaN   -0.052021    0.013953    0.002201    0.015617   \n",
       "society_4           NaN   -0.056149   -0.059949   -0.002545   -0.009382   \n",
       "society_5           NaN   -0.070859   -0.059328   -0.109909    0.057785   \n",
       "society_6           NaN   -0.058678   -0.055026   -0.041889   -0.049115   \n",
       "society_7           NaN   -0.061402   -0.091918   -0.090864   -0.046048   \n",
       "society_8           NaN   -0.081296   -0.105476   -0.093888   -0.049785   \n",
       "society_9           NaN   -0.068364   -0.095835   -0.069551   -0.034832   \n",
       "society_10          NaN   -0.073131   -0.097441   -0.080677   -0.059283   \n",
       "society_11          NaN    0.067100    0.103889    0.101673    0.080419   \n",
       "society_12          NaN    0.061425    0.073158    0.100139    0.035157   \n",
       "area_type           NaN    0.067355    0.115994    0.091059    0.059984   \n",
       "size                NaN    0.047112    0.076477    0.071303    0.052344   \n",
       "total_sqft          NaN    0.025281    0.011752    0.025691    0.018465   \n",
       "balcony             NaN   -0.025274    0.002528   -0.000924    0.012870   \n",
       "is_society          NaN         NaN         NaN         NaN         NaN   \n",
       "isready             NaN    0.019483    0.073039    0.091932    0.070902   \n",
       "price               NaN    0.027833    0.080074    0.062189    0.062761   \n",
       "\n",
       "             location_5  location_6  location_7  location_8  location_9  \\\n",
       "location_0          NaN         NaN         NaN         NaN         NaN   \n",
       "location_1     0.032336   -0.000776    0.000394    0.003610    0.007424   \n",
       "location_2     0.070508    0.057630    0.012774    0.010540    0.010661   \n",
       "location_3     0.121422    0.091171   -0.016986    0.024086    0.008881   \n",
       "location_4     0.173845    0.111465   -0.026106    0.032889   -0.036483   \n",
       "location_5     1.000000    0.033779    0.034677    0.001499   -0.051665   \n",
       "location_6     0.033779    1.000000   -0.070095   -0.097073    0.055094   \n",
       "location_7     0.034677   -0.070095    1.000000    0.047098    0.039272   \n",
       "location_8     0.001499   -0.097073    0.047098    1.000000   -0.059021   \n",
       "location_9    -0.051665    0.055094    0.039272   -0.059021    1.000000   \n",
       "location_10   -0.057659    0.040316    0.001200   -0.102392    0.032069   \n",
       "location_11   -0.065164    0.039560   -0.002301   -0.012090   -0.102398   \n",
       "society_0           NaN         NaN         NaN         NaN         NaN   \n",
       "society_1      0.012096    0.010422    0.012811   -0.030439    0.013644   \n",
       "society_2      0.015690    0.024727    0.005407   -0.010483   -0.048048   \n",
       "society_3     -0.024478    0.049089   -0.028139   -0.054875   -0.008727   \n",
       "society_4     -0.025624    0.009777   -0.003293   -0.027670   -0.012110   \n",
       "society_5     -0.037388    0.016353   -0.062989   -0.023705   -0.004561   \n",
       "society_6     -0.005041    0.008823   -0.028355   -0.020560   -0.028122   \n",
       "society_7     -0.064922    0.041873   -0.038065   -0.011156    0.005062   \n",
       "society_8     -0.050532   -0.044069   -0.016845   -0.034936    0.015115   \n",
       "society_9     -0.056754   -0.006429   -0.024539   -0.030799   -0.025781   \n",
       "society_10    -0.082577   -0.008186   -0.023122   -0.012452    0.020569   \n",
       "society_11     0.063731    0.018456   -0.009679    0.012018   -0.016536   \n",
       "society_12     0.022860    0.036388    0.033254    0.003034   -0.002252   \n",
       "area_type      0.047103    0.028111   -0.021865   -0.001986    0.032325   \n",
       "size           0.029157    0.036122    0.004510   -0.014827    0.015136   \n",
       "total_sqft    -0.008929    0.005691   -0.012865   -0.021211    0.009610   \n",
       "balcony        0.016144    0.008942    0.010143   -0.045602    0.003416   \n",
       "is_society          NaN         NaN         NaN         NaN         NaN   \n",
       "isready        0.078490    0.042527    0.010479   -0.040149   -0.034785   \n",
       "price          0.024898    0.046406   -0.011023   -0.004905    0.029250   \n",
       "\n",
       "               ...     society_10  society_11  society_12  area_type  \\\n",
       "location_0     ...            NaN         NaN         NaN        NaN   \n",
       "location_1     ...      -0.073131    0.067100    0.061425   0.067355   \n",
       "location_2     ...      -0.097441    0.103889    0.073158   0.115994   \n",
       "location_3     ...      -0.080677    0.101673    0.100139   0.091059   \n",
       "location_4     ...      -0.059283    0.080419    0.035157   0.059984   \n",
       "location_5     ...      -0.082577    0.063731    0.022860   0.047103   \n",
       "location_6     ...      -0.008186    0.018456    0.036388   0.028111   \n",
       "location_7     ...      -0.023122   -0.009679    0.033254  -0.021865   \n",
       "location_8     ...      -0.012452    0.012018    0.003034  -0.001986   \n",
       "location_9     ...       0.020569   -0.016536   -0.002252   0.032325   \n",
       "location_10    ...      -0.003544   -0.020664   -0.012639  -0.003121   \n",
       "location_11    ...      -0.019044    0.031189   -0.028932  -0.012093   \n",
       "society_0      ...            NaN         NaN         NaN        NaN   \n",
       "society_1      ...       0.104894   -0.093711   -0.111190  -0.056727   \n",
       "society_2      ...       0.174854   -0.165308   -0.185061  -0.101540   \n",
       "society_3      ...       0.220218   -0.203491   -0.209217  -0.128006   \n",
       "society_4      ...       0.279605   -0.243727   -0.260270  -0.152374   \n",
       "society_5      ...       0.254028   -0.237731   -0.300389  -0.156336   \n",
       "society_6      ...       0.261384   -0.249381   -0.293997  -0.175001   \n",
       "society_7      ...       0.319861   -0.301983   -0.242774  -0.180831   \n",
       "society_8      ...       0.282709   -0.312202   -0.308721  -0.195284   \n",
       "society_9      ...       0.313314   -0.322363   -0.292173  -0.156684   \n",
       "society_10     ...       1.000000   -0.303774   -0.293565  -0.173489   \n",
       "society_11     ...      -0.303774    1.000000    0.308309   0.190265   \n",
       "society_12     ...      -0.293565    0.308309    1.000000   0.179905   \n",
       "area_type      ...      -0.173489    0.190265    0.179905   1.000000   \n",
       "size           ...      -0.114558    0.128373    0.125881   0.399547   \n",
       "total_sqft     ...       0.021288    0.014377    0.024289   0.093112   \n",
       "balcony        ...       0.038710   -0.008968   -0.016657  -0.060386   \n",
       "is_society     ...            NaN         NaN         NaN        NaN   \n",
       "isready        ...      -0.072107    0.059349    0.065824   0.070263   \n",
       "price          ...       0.000697    0.045666    0.075355   0.331737   \n",
       "\n",
       "                 size  total_sqft   balcony  is_society   isready     price  \n",
       "location_0        NaN         NaN       NaN         NaN       NaN       NaN  \n",
       "location_1   0.047112    0.025281 -0.025274         NaN  0.019483  0.027833  \n",
       "location_2   0.076477    0.011752  0.002528         NaN  0.073039  0.080074  \n",
       "location_3   0.071303    0.025691 -0.000924         NaN  0.091932  0.062189  \n",
       "location_4   0.052344    0.018465  0.012870         NaN  0.070902  0.062761  \n",
       "location_5   0.029157   -0.008929  0.016144         NaN  0.078490  0.024898  \n",
       "location_6   0.036122    0.005691  0.008942         NaN  0.042527  0.046406  \n",
       "location_7   0.004510   -0.012865  0.010143         NaN  0.010479 -0.011023  \n",
       "location_8  -0.014827   -0.021211 -0.045602         NaN -0.040149 -0.004905  \n",
       "location_9   0.015136    0.009610  0.003416         NaN -0.034785  0.029250  \n",
       "location_10 -0.001273    0.007826  0.014114         NaN -0.010785  0.023832  \n",
       "location_11 -0.010391   -0.024401 -0.018403         NaN  0.057789 -0.043281  \n",
       "society_0         NaN         NaN       NaN         NaN       NaN       NaN  \n",
       "society_1   -0.051529   -0.004241  0.023313         NaN  0.062863 -0.024365  \n",
       "society_2   -0.074560    0.002810  0.059576         NaN  0.075090 -0.028378  \n",
       "society_3   -0.094165   -0.008899  0.043579         NaN -0.000774 -0.034211  \n",
       "society_4   -0.097605    0.032197  0.025725         NaN  0.032128 -0.012938  \n",
       "society_5   -0.108223    0.007905  0.054135         NaN  0.001973 -0.030083  \n",
       "society_6   -0.109562   -0.007346  0.009132         NaN -0.043156 -0.044115  \n",
       "society_7   -0.113783    0.020638  0.054735         NaN -0.014022  0.002651  \n",
       "society_8   -0.128775   -0.021596  0.040108         NaN -0.068491 -0.056353  \n",
       "society_9   -0.115063    0.004198  0.034076         NaN -0.041978 -0.034394  \n",
       "society_10  -0.114558    0.021288  0.038710         NaN -0.072107  0.000697  \n",
       "society_11   0.128373    0.014377 -0.008968         NaN  0.059349  0.045666  \n",
       "society_12   0.125881    0.024289 -0.016657         NaN  0.065824  0.075355  \n",
       "area_type    0.399547    0.093112 -0.060386         NaN  0.070263  0.331737  \n",
       "size         1.000000    0.442223  0.212262         NaN  0.102895  0.591076  \n",
       "total_sqft   0.442223    1.000000  0.193184         NaN  0.024246  0.693669  \n",
       "balcony      0.212262    0.193184  1.000000         NaN  0.114563  0.208885  \n",
       "is_society        NaN         NaN       NaN         NaN       NaN       NaN  \n",
       "isready      0.102895    0.024246  0.114563         NaN  1.000000  0.085630  \n",
       "price        0.591076    0.693669  0.208885         NaN  0.085630  1.000000  \n",
       "\n",
       "[32 rows x 32 columns]"
      ]
     },
     "execution_count": 39,
     "metadata": {},
     "output_type": "execute_result"
    }
   ],
   "source": [
    "corr_matrix = train.corr()\n",
    "corr_matrix"
   ]
  },
  {
   "cell_type": "code",
   "execution_count": 40,
   "metadata": {},
   "outputs": [],
   "source": [
    "train = train.drop(['location_0','society_0','is_society'],axis =1)\n",
    "test = test.drop(['location_0','society_0','is_society'],axis =1)\n"
   ]
  },
  {
   "cell_type": "markdown",
   "metadata": {},
   "source": [
    "### Categorical Variable"
   ]
  },
  {
   "cell_type": "code",
   "execution_count": 41,
   "metadata": {},
   "outputs": [
    {
     "data": {
      "text/plain": [
       "<matplotlib.axes._subplots.AxesSubplot at 0x1f7f5ae0278>"
      ]
     },
     "execution_count": 41,
     "metadata": {},
     "output_type": "execute_result"
    },
    {
     "data": {
      "image/png": "[encoded data removed]",
      "text/plain": [
       "<Figure size 432x288 with 1 Axes>"
      ]
     },
     "metadata": {},
     "output_type": "display_data"
    }
   ],
   "source": [
    "sns.boxplot(train['size'], train['price'])"
   ]
  },
  {
   "cell_type": "code",
   "execution_count": 42,
   "metadata": {},
   "outputs": [
    {
     "name": "stderr",
     "output_type": "stream",
     "text": [
      "C:\\Users\\NITIN\\Anaconda3\\lib\\site-packages\\matplotlib\\axes\\_axes.py:6462: UserWarning: The 'normed' kwarg is deprecated, and has been replaced by the 'density' kwarg.\n",
      "  warnings.warn(\"The 'normed' kwarg is deprecated, and has been \"\n"
     ]
    },
    {
     "name": "stdout",
     "output_type": "stream",
     "text": [
      "\n",
      " mu = 1.68 and sigma = 0.13\n",
      "\n"
     ]
    },
    {
     "data": {
      "image/png": "[encoded data removed]",
      "text/plain": [
       "<Figure size 432x288 with 1 Axes>"
      ]
     },
     "metadata": {},
     "output_type": "display_data"
    },
    {
     "data": {
      "image/png": "[encoded data removed]",
      "text/plain": [
       "<Figure size 432x288 with 1 Axes>"
      ]
     },
     "metadata": {},
     "output_type": "display_data"
    },
    {
     "name": "stdout",
     "output_type": "stream",
     "text": [
      "Skewness: 0.375336\n",
      "Kurtosis: 0.635366\n"
     ]
    }
   ],
   "source": [
    "# We use the numpy fuction log1p which  applies log(1+x) to all elements of the column\n",
    "train[\"price\"] = np.log1p(train[\"price\"]) \n",
    "\n",
    "\n",
    "# Plot Histogram\n",
    "sns.distplot(train['price'] , fit=norm);\n",
    "\n",
    "# Get the fitted parameters used by the function\n",
    "(mu, sigma) = norm.fit(train['price'])\n",
    "print( '\\n mu = {:.2f} and sigma = {:.2f}\\n'.format(mu, sigma))\n",
    "plt.legend(['Normal dist. ($\\mu=$ {:.2f} and $\\sigma=$ {:.2f} )'.format(mu, sigma)],\n",
    "            loc='best')\n",
    "plt.ylabel('Frequency')\n",
    "plt.title('SalePrice distribution')\n",
    "\n",
    "fig = plt.figure()\n",
    "res = stats.probplot(train['price'], plot=plt)\n",
    "plt.show()\n",
    "\n",
    "print(\"Skewness: %f\" %train['price'].skew())\n",
    "print(\"Kurtosis: %f\" % train['price'].kurt())"
   ]
  },
  {
   "cell_type": "code",
   "execution_count": 43,
   "metadata": {},
   "outputs": [
    {
     "name": "stdout",
     "output_type": "stream",
     "text": [
      "Train data size is : (13295, 29)\n",
      "Test data size is : (1480, 28)\n",
      "Combined dataset size is : (14775, 28)\n"
     ]
    },
    {
     "name": "stderr",
     "output_type": "stream",
     "text": [
      "C:\\Users\\NITIN\\Anaconda3\\lib\\site-packages\\ipykernel_launcher.py:5: FutureWarning: Sorting because non-concatenation axis is not aligned. A future version\n",
      "of pandas will change to not sort by default.\n",
      "\n",
      "To accept the future behavior, pass 'sort=True'.\n",
      "\n",
      "To retain the current behavior and silence the warning, pass sort=False\n",
      "\n",
      "  \"\"\"\n"
     ]
    }
   ],
   "source": [
    "# Combining Datasets\n",
    "ntrain = train.shape[0]\n",
    "ntest = test.shape[0]\n",
    "y_train = train.price\n",
    "all_data = pd.concat((train, test)).reset_index(drop=True)\n",
    "all_data.drop(['price'], axis=1, inplace=True)\n",
    "print(\"Train data size is : {}\".format(train.shape))\n",
    "print(\"Test data size is : {}\".format(test.shape))\n",
    "print(\"Combined dataset size is : {}\".format(all_data.shape))\n"
   ]
  },
  {
   "cell_type": "code",
   "execution_count": 44,
   "metadata": {},
   "outputs": [
    {
     "data": {
      "text/html": [
       "<div>\n",
       "<style scoped>\n",
       "    .dataframe tbody tr th:only-of-type {\n",
       "        vertical-align: middle;\n",
       "    }\n",
       "\n",
       "    .dataframe tbody tr th {\n",
       "        vertical-align: top;\n",
       "    }\n",
       "\n",
       "    .dataframe thead th {\n",
       "        text-align: right;\n",
       "    }\n",
       "</style>\n",
       "<table border=\"1\" class=\"dataframe\">\n",
       "  <thead>\n",
       "    <tr style=\"text-align: right;\">\n",
       "      <th></th>\n",
       "      <th>Skewed Features</th>\n",
       "    </tr>\n",
       "  </thead>\n",
       "  <tbody>\n",
       "    <tr>\n",
       "      <th>total_sqft</th>\n",
       "      <td>84.755396</td>\n",
       "    </tr>\n",
       "    <tr>\n",
       "      <th>location_1</th>\n",
       "      <td>5.418702</td>\n",
       "    </tr>\n",
       "    <tr>\n",
       "      <th>society_1</th>\n",
       "      <td>3.554948</td>\n",
       "    </tr>\n",
       "    <tr>\n",
       "      <th>size</th>\n",
       "      <td>2.451488</td>\n",
       "    </tr>\n",
       "    <tr>\n",
       "      <th>location_2</th>\n",
       "      <td>2.346651</td>\n",
       "    </tr>\n",
       "  </tbody>\n",
       "</table>\n",
       "</div>"
      ],
      "text/plain": [
       "            Skewed Features\n",
       "total_sqft        84.755396\n",
       "location_1         5.418702\n",
       "society_1          3.554948\n",
       "size               2.451488\n",
       "location_2         2.346651"
      ]
     },
     "execution_count": 44,
     "metadata": {},
     "output_type": "execute_result"
    }
   ],
   "source": [
    "numeric_feats = all_data.dtypes[all_data.dtypes != \"object\"].index\n",
    "\n",
    "# Check the skew of all numerical features\n",
    "skewed_feats = all_data[numeric_feats].apply(lambda x: skew(x.dropna())).sort_values(ascending=False)\n",
    "skewness = pd.DataFrame({'Skewed Features' :skewed_feats})\n",
    "skewness.head()"
   ]
  },
  {
   "cell_type": "code",
   "execution_count": 45,
   "metadata": {},
   "outputs": [
    {
     "name": "stdout",
     "output_type": "stream",
     "text": [
      "There are 28 skewed numerical features to Box Cox transform\n"
     ]
    }
   ],
   "source": [
    "skewness = skewness[abs(skewness) > 0.75]\n",
    "print(\"There are {} skewed numerical features to Box Cox transform\".format(skewness.shape[0]))\n",
    "\n",
    "from scipy.special import boxcox1p\n",
    "skewed_features = skewness.index\n",
    "lam = 0\n",
    "for feat in skewed_features:\n",
    "    all_data.loc[:,feat] = boxcox1p(all_data[feat], lam)\n",
    "    #train.loc[:,feat] += 1\n"
   ]
  },
  {
   "cell_type": "code",
   "execution_count": 46,
   "metadata": {},
   "outputs": [
    {
     "name": "stdout",
     "output_type": "stream",
     "text": [
      "(14775, 28)\n"
     ]
    }
   ],
   "source": [
    "all_data = pd.get_dummies(all_data,drop_first=True)\n",
    "print(all_data.shape)"
   ]
  },
  {
   "cell_type": "code",
   "execution_count": 49,
   "metadata": {},
   "outputs": [],
   "source": [
    "train = all_data[:ntrain]\n",
    "test = all_data[ntrain:]"
   ]
  },
  {
   "cell_type": "code",
   "execution_count": 48,
   "metadata": {},
   "outputs": [],
   "source": [
    "from sklearn.preprocessing import StandardScaler\n",
    "sc = StandardScaler()\n",
    "train = sc.fit_transform(train)\n",
    "test = sc.transform(test)\n"
   ]
  },
  {
   "cell_type": "markdown",
   "metadata": {},
   "source": [
    "## Modelling"
   ]
  },
  {
   "cell_type": "code",
   "execution_count": 50,
   "metadata": {},
   "outputs": [
    {
     "data": {
      "text/plain": [
       "(1480, 28)"
      ]
     },
     "execution_count": 50,
     "metadata": {},
     "output_type": "execute_result"
    }
   ],
   "source": [
    "test.shape"
   ]
  },
  {
   "cell_type": "markdown",
   "metadata": {},
   "source": [
    "### Import Libraries"
   ]
  },
  {
   "cell_type": "code",
   "execution_count": 51,
   "metadata": {},
   "outputs": [],
   "source": [
    "from sklearn.linear_model import ElasticNet, Lasso,  BayesianRidge, LassoLarsIC\n",
    "from sklearn.ensemble import RandomForestRegressor,  GradientBoostingRegressor, AdaBoostRegressor\n",
    "from sklearn.kernel_ridge import KernelRidge\n",
    "from sklearn.pipeline import make_pipeline\n",
    "from sklearn.preprocessing import RobustScaler\n",
    "from sklearn.base import BaseEstimator, TransformerMixin, RegressorMixin, clone\n",
    "from sklearn.model_selection import KFold, cross_val_score, train_test_split\n",
    "from sklearn.metrics import mean_squared_error\n",
    "import xgboost as xgb\n",
    "import lightgbm as lgb\n",
    "from sklearn.model_selection import GridSearchCV"
   ]
  },
  {
   "cell_type": "code",
   "execution_count": 52,
   "metadata": {},
   "outputs": [],
   "source": [
    "#Validation function\n",
    "n_folds = 10\n",
    "\n",
    "def rmsle_cv(model):\n",
    "    kf = KFold(n_folds, shuffle=True, random_state=42).get_n_splits(train)\n",
    "    rmse= np.sqrt(-cross_val_score(model, train, y_train, scoring=\"neg_mean_squared_error\", cv = kf, n_jobs=7))\n",
    "    return(rmse)"
   ]
  },
  {
   "cell_type": "code",
   "execution_count": 53,
   "metadata": {},
   "outputs": [],
   "source": [
    "def rmsle(y, y_pred):\n",
    "    return np.sqrt(mean_squared_error(y, y_pred))"
   ]
  },
  {
   "cell_type": "code",
   "execution_count": 54,
   "metadata": {},
   "outputs": [
    {
     "name": "stdout",
     "output_type": "stream",
     "text": [
      "\n",
      "Lasso score: 0.0739 (0.0033)\n",
      "\n"
     ]
    }
   ],
   "source": [
    "lasso = make_pipeline(RobustScaler(), Lasso(alpha =0.0005, random_state=1))\n",
    "score = rmsle_cv(lasso)\n",
    "print(\"\\nLasso score: {:.4f} ({:.4f})\\n\".format(score.mean(), score.std()))"
   ]
  },
  {
   "cell_type": "code",
   "execution_count": 55,
   "metadata": {},
   "outputs": [
    {
     "name": "stdout",
     "output_type": "stream",
     "text": [
      "ElasticNet score: 0.0739 (0.0033)\n",
      "\n"
     ]
    }
   ],
   "source": [
    "ENet = make_pipeline(RobustScaler(), ElasticNet(alpha=0.0005, l1_ratio=.9, random_state=3))\n",
    "score = rmsle_cv(ENet)\n",
    "print(\"ElasticNet score: {:.4f} ({:.4f})\\n\".format(score.mean(), score.std()))"
   ]
  },
  {
   "cell_type": "code",
   "execution_count": null,
   "metadata": {},
   "outputs": [],
   "source": [
    "KRR = KernelRidge(alpha=0.6, kernel='polynomial', degree=2, coef0=2.5)\n",
    "score = rmsle_cv(KRR)\n",
    "print(\"KernelRidge score: {:.4f} ({:.4f})\\n\".format(score.mean(), score.std()))"
   ]
  },
  {
   "cell_type": "code",
   "execution_count": 56,
   "metadata": {},
   "outputs": [
    {
     "name": "stdout",
     "output_type": "stream",
     "text": [
      "Random Forest score: 0.0606 (0.0023)\n",
      "\n"
     ]
    }
   ],
   "source": [
    "randomForest = RandomForestRegressor()\n",
    "score = rmsle_cv(randomForest)\n",
    "print(\"Random Forest score: {:.4f} ({:.4f})\\n\".format(score.mean(), score.std()))"
   ]
  },
  {
   "cell_type": "code",
   "execution_count": 64,
   "metadata": {},
   "outputs": [
    {
     "name": "stdout",
     "output_type": "stream",
     "text": [
      "Gradient Boosting score: 0.0565 (0.0027)\n",
      "\n"
     ]
    }
   ],
   "source": [
    "## Best Score till now\n",
    "GBoost = GradientBoostingRegressor(n_estimators=3000, learning_rate=0.05,\n",
    "                                   max_depth=4, max_features='sqrt',\n",
    "                                   min_samples_leaf=15, min_samples_split=10, \n",
    "                                   loss='huber', random_state =5)\n",
    "score = rmsle_cv(GBoost)\n",
    "print(\"Gradient Boosting score: {:.4f} ({:.4f})\\n\".format(score.mean(), score.std()))"
   ]
  },
  {
   "cell_type": "code",
   "execution_count": 53,
   "metadata": {},
   "outputs": [
    {
     "name": "stdout",
     "output_type": "stream",
     "text": [
      "Gradient Boosting score: 0.05194865 (0.00284355)\n",
      "\n"
     ]
    }
   ],
   "source": [
    "## Best Score till now\n",
    "GBoost = GradientBoostingRegressor(alpha=0.9, criterion='friedman_mse', init=None,\n",
    "             learning_rate=0.01, loss='ls', max_depth=9,\n",
    "             max_features='log2', max_leaf_nodes=None,\n",
    "             min_impurity_decrease=0.0, min_impurity_split=None,\n",
    "             min_samples_leaf=1, min_samples_split=2,\n",
    "             min_weight_fraction_leaf=0.0, n_estimators=2500,\n",
    "             presort='auto', random_state=None, subsample=1.0, verbose=0,\n",
    "             warm_start=False)\n",
    "score = rmsle_cv(GBoost)\n",
    "\n",
    "#Gradient Boosting score: 0.05204824 (0.00266743)\n",
    "\n",
    "print(\"Gradient Boosting score: {:.8f} ({:.8f})\\n\".format(score.mean(), score.std()))"
   ]
  },
  {
   "cell_type": "code",
   "execution_count": 58,
   "metadata": {},
   "outputs": [
    {
     "name": "stdout",
     "output_type": "stream",
     "text": [
      "Light Gradient Boosting score: 0.0581 (0.0026)\n",
      "\n"
     ]
    }
   ],
   "source": [
    "new_lgb = lgb.LGBMRegressor()\n",
    "score = rmsle_cv(new_lgb)\n",
    "print(\"Light Gradient Boosting score: {:.4f} ({:.4f})\\n\".format(score.mean(), score.std()))"
   ]
  },
  {
   "cell_type": "code",
   "execution_count": 65,
   "metadata": {},
   "outputs": [
    {
     "name": "stdout",
     "output_type": "stream",
     "text": [
      "Light Gradient Boosting score: 0.0547 (0.0026)\n",
      "\n"
     ]
    }
   ],
   "source": [
    "new_lgb = lgb.LGBMRegressor(learning_rate=0.07,n_estimators=2000)\n",
    "score = rmsle_cv(new_lgb)\n",
    "print(\"Light Gradient Boosting score: {:.4f} ({:.4f})\\n\".format(score.mean(), score.std()))"
   ]
  },
  {
   "cell_type": "code",
   "execution_count": 59,
   "metadata": {},
   "outputs": [
    {
     "name": "stdout",
     "output_type": "stream",
     "text": [
      "LGBM score: 0.0637 (0.0028)\n",
      "\n"
     ]
    }
   ],
   "source": [
    "model_lgb = xgb.XGBRegressor()\n",
    "score = rmsle_cv(model_lgb)\n",
    "print(\"LGBM score: {:.4f} ({:.4f})\\n\" .format(score.mean(), score.std()))"
   ]
  },
  {
   "cell_type": "code",
   "execution_count": null,
   "metadata": {},
   "outputs": [],
   "source": [
    "train.columns"
   ]
  },
  {
   "cell_type": "code",
   "execution_count": 66,
   "metadata": {},
   "outputs": [
    {
     "name": "stdout",
     "output_type": "stream",
     "text": [
      "0.04681226625221903\n"
     ]
    }
   ],
   "source": [
    "GBoost.fit(train, y_train)\n",
    "xgb_train_pred = GBoost.predict(train)\n",
    "xgb_pred = np.expm1(GBoost.predict(test))\n",
    "print(rmsle(y_train, xgb_train_pred))"
   ]
  },
  {
   "cell_type": "code",
   "execution_count": null,
   "metadata": {},
   "outputs": [],
   "source": [
    "class AveragingModels(BaseEstimator, RegressorMixin, TransformerMixin):\n",
    "    def __init__(self, models):\n",
    "        self.models = models\n",
    "        \n",
    "    # we define clones of the original models to fit the data in\n",
    "    def fit(self, X, y):\n",
    "        self.models_ = [clone(x) for x in self.models]\n",
    "        \n",
    "        # Train cloned base models\n",
    "        for model in self.models_:\n",
    "            model.fit(X, y)\n",
    "\n",
    "        return self\n",
    "    \n",
    "    #Now we do the predictions for cloned models and average them\n",
    "    def predict(self, X):\n",
    "        predictions = np.column_stack([\n",
    "            model.predict(X) for model in self.models_\n",
    "        ])\n",
    "        return np.mean(predictions, axis=1)   "
   ]
  },
  {
   "cell_type": "code",
   "execution_count": null,
   "metadata": {
    "scrolled": true
   },
   "outputs": [],
   "source": [
    "averaged_models = AveragingModels(models = (model_xgb, GBoost, model_lgb))\n",
    "\n",
    "score = rmsle_cv(averaged_models)\n",
    "print(\" Averaged base models score: {:.4f} ({:.4f})\\n\".format(score.mean(), score.std()))"
   ]
  },
  {
   "cell_type": "code",
   "execution_count": null,
   "metadata": {},
   "outputs": [],
   "source": [
    "averaged_models.fit(train, y_train)\n",
    "stacked_train_pred = averaged_models.predict(train)\n",
    "stacked_pred = np.expm1(averaged_models.predict(test))\n",
    "print(rmsle(y_train, stacked_train_pred))"
   ]
  },
  {
   "cell_type": "code",
   "execution_count": null,
   "metadata": {},
   "outputs": [],
   "source": [
    "model_lgb.fit(train, y_train)\n",
    "lgb_train_pred = model_lgb.predict(train)\n",
    "lgb_pred = np.expm1(model_lgb.predict(test))\n",
    "print(rmsle(y_train, lgb_train_pred))"
   ]
  },
  {
   "cell_type": "code",
   "execution_count": null,
   "metadata": {},
   "outputs": [],
   "source": [
    "'''RMSE on the entire Train data when averaging'''\n",
    "\n",
    "print('RMSLE score on train data:')\n",
    "print(rmsle(y_train,stacked_train_pred*0.70 +\n",
    "               xgb_train_pred*0.15 + lgb_train_pred*0.15 ))"
   ]
  },
  {
   "cell_type": "code",
   "execution_count": null,
   "metadata": {},
   "outputs": [],
   "source": [
    "ensemble = stacked_pred*0.70 + xgb_pred*0.15 + lgb_pred*0.15\n"
   ]
  },
  {
   "cell_type": "code",
   "execution_count": null,
   "metadata": {},
   "outputs": [],
   "source": [
    "ensemble"
   ]
  },
  {
   "cell_type": "code",
   "execution_count": null,
   "metadata": {},
   "outputs": [],
   "source": [
    "test.shape"
   ]
  },
  {
   "cell_type": "code",
   "execution_count": 67,
   "metadata": {},
   "outputs": [],
   "source": [
    "test_data['price'] = np.exp(xgb_pred)"
   ]
  },
  {
   "cell_type": "code",
   "execution_count": 68,
   "metadata": {},
   "outputs": [
    {
     "data": {
      "text/html": [
       "<div>\n",
       "<style scoped>\n",
       "    .dataframe tbody tr th:only-of-type {\n",
       "        vertical-align: middle;\n",
       "    }\n",
       "\n",
       "    .dataframe tbody tr th {\n",
       "        vertical-align: top;\n",
       "    }\n",
       "\n",
       "    .dataframe thead th {\n",
       "        text-align: right;\n",
       "    }\n",
       "</style>\n",
       "<table border=\"1\" class=\"dataframe\">\n",
       "  <thead>\n",
       "    <tr style=\"text-align: right;\">\n",
       "      <th></th>\n",
       "      <th>area_type</th>\n",
       "      <th>availability</th>\n",
       "      <th>location</th>\n",
       "      <th>size</th>\n",
       "      <th>society</th>\n",
       "      <th>total_sqft</th>\n",
       "      <th>bath</th>\n",
       "      <th>balcony</th>\n",
       "      <th>price</th>\n",
       "    </tr>\n",
       "  </thead>\n",
       "  <tbody>\n",
       "    <tr>\n",
       "      <th>0</th>\n",
       "      <td>Super built-up  Area</td>\n",
       "      <td>Ready To Move</td>\n",
       "      <td>Brookefield</td>\n",
       "      <td>2 BHK</td>\n",
       "      <td>Roeekbl</td>\n",
       "      <td>1225</td>\n",
       "      <td>2.0</td>\n",
       "      <td>2.0</td>\n",
       "      <td>68.221604</td>\n",
       "    </tr>\n",
       "    <tr>\n",
       "      <th>1</th>\n",
       "      <td>Plot  Area</td>\n",
       "      <td>Ready To Move</td>\n",
       "      <td>Akshaya Nagar</td>\n",
       "      <td>9 Bedroom</td>\n",
       "      <td>NaN</td>\n",
       "      <td>2400</td>\n",
       "      <td>9.0</td>\n",
       "      <td>2.0</td>\n",
       "      <td>324.386035</td>\n",
       "    </tr>\n",
       "    <tr>\n",
       "      <th>2</th>\n",
       "      <td>Plot  Area</td>\n",
       "      <td>18-Apr</td>\n",
       "      <td>Hennur Road</td>\n",
       "      <td>4 Bedroom</td>\n",
       "      <td>Saandtt</td>\n",
       "      <td>1650</td>\n",
       "      <td>5.0</td>\n",
       "      <td>2.0</td>\n",
       "      <td>258.222359</td>\n",
       "    </tr>\n",
       "    <tr>\n",
       "      <th>3</th>\n",
       "      <td>Super built-up  Area</td>\n",
       "      <td>Ready To Move</td>\n",
       "      <td>Kodichikkanahalli</td>\n",
       "      <td>3 BHK</td>\n",
       "      <td>Winerri</td>\n",
       "      <td>1322</td>\n",
       "      <td>3.0</td>\n",
       "      <td>1.0</td>\n",
       "      <td>65.899385</td>\n",
       "    </tr>\n",
       "    <tr>\n",
       "      <th>4</th>\n",
       "      <td>Super built-up  Area</td>\n",
       "      <td>Ready To Move</td>\n",
       "      <td>Konanakunte</td>\n",
       "      <td>2 BHK</td>\n",
       "      <td>AmageSa</td>\n",
       "      <td>1161</td>\n",
       "      <td>2.0</td>\n",
       "      <td>1.0</td>\n",
       "      <td>56.874412</td>\n",
       "    </tr>\n",
       "  </tbody>\n",
       "</table>\n",
       "</div>"
      ],
      "text/plain": [
       "              area_type   availability           location       size  society  \\\n",
       "0  Super built-up  Area  Ready To Move        Brookefield      2 BHK  Roeekbl   \n",
       "1            Plot  Area  Ready To Move      Akshaya Nagar  9 Bedroom      NaN   \n",
       "2            Plot  Area         18-Apr        Hennur Road  4 Bedroom  Saandtt   \n",
       "3  Super built-up  Area  Ready To Move  Kodichikkanahalli      3 BHK  Winerri   \n",
       "4  Super built-up  Area  Ready To Move        Konanakunte      2 BHK  AmageSa   \n",
       "\n",
       "  total_sqft  bath  balcony       price  \n",
       "0       1225   2.0      2.0   68.221604  \n",
       "1       2400   9.0      2.0  324.386035  \n",
       "2       1650   5.0      2.0  258.222359  \n",
       "3       1322   3.0      1.0   65.899385  \n",
       "4       1161   2.0      1.0   56.874412  "
      ]
     },
     "execution_count": 68,
     "metadata": {},
     "output_type": "execute_result"
    }
   ],
   "source": [
    "test_data.head()"
   ]
  },
  {
   "cell_type": "code",
   "execution_count": 69,
   "metadata": {},
   "outputs": [],
   "source": [
    "writer = pd.ExcelWriter('test_6.xlsx')\n",
    "test_data.to_excel(writer,'Predicting-House-Prices-In')\n",
    "writer.save()"
   ]
  },
  {
   "cell_type": "code",
   "execution_count": null,
   "metadata": {},
   "outputs": [],
   "source": []
  }
 ],
 "metadata": {
  "kernelspec": {
   "display_name": "Python 3",
   "language": "python",
   "name": "python3"
  },
  "language_info": {
   "codemirror_mode": {
    "name": "ipython",
    "version": 3
   },
   "file_extension": ".py",
   "mimetype": "text/x-python",
   "name": "python",
   "nbconvert_exporter": "python",
   "pygments_lexer": "ipython3",
   "version": "3.6.5"
  }
 },
 "nbformat": 4,
 "nbformat_minor": 2
}
