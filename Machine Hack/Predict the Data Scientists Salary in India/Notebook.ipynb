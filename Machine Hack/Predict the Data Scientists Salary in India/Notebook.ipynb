{
 "cells": [
  {
   "cell_type": "code",
   "execution_count": 1,
   "metadata": {},
   "outputs": [],
   "source": [
    "import pandas as pd\n",
    "import matplotlib.pyplot as plt\n",
    "import numpy as np\n",
    "import seaborn as sns"
   ]
  },
  {
   "cell_type": "code",
   "execution_count": 8,
   "metadata": {},
   "outputs": [],
   "source": [
    "train_data = pd.read_csv('Final_Train_Dataset.csv',index_col='Unnamed: 0')\n",
    "test_data = pd.read_csv('Final_Test_Dataset.csv')"
   ]
  },
  {
   "cell_type": "code",
   "execution_count": 9,
   "metadata": {},
   "outputs": [
    {
     "data": {
      "text/plain": [
       "experience              object\n",
       "job_description         object\n",
       "job_desig               object\n",
       "job_type                object\n",
       "key_skills              object\n",
       "location                object\n",
       "salary                  object\n",
       "company_name_encoded     int64\n",
       "dtype: object"
      ]
     },
     "execution_count": 9,
     "metadata": {},
     "output_type": "execute_result"
    }
   ],
   "source": [
    "train_data.dtypes"
   ]
  },
  {
   "cell_type": "code",
   "execution_count": 13,
   "metadata": {},
   "outputs": [
    {
     "data": {
      "text/plain": [
       "experience                  0\n",
       "job_description          4418\n",
       "job_desig                   0\n",
       "job_type                15005\n",
       "key_skills                  1\n",
       "location                    0\n",
       "salary                      0\n",
       "company_name_encoded        0\n",
       "dtype: int64"
      ]
     },
     "execution_count": 13,
     "metadata": {},
     "output_type": "execute_result"
    }
   ],
   "source": [
    "train_data.isnull().sum()"
   ]
  },
  {
   "cell_type": "code",
   "execution_count": 18,
   "metadata": {},
   "outputs": [
    {
     "data": {
      "text/plain": [
       "Business Analyst                                                          148\n",
       "Data Scientist                                                             84\n",
       "Data Analyst                                                               67\n",
       "Product Manager                                                            60\n",
       "Home Base Job/ Data Entry/online Work/part Time Work/freelancer work       58\n",
       "Digital Marketing Manager                                                  54\n",
       "Digital Marketing Executive                                                44\n",
       "Analyst                                                                    40\n",
       "Microsoft Advanced Analytics                                               33\n",
       "SEO Executive                                                              33\n",
       "SEO Analyst                                                                29\n",
       "Associate                                                                  28\n",
       "Application Developer                                                      28\n",
       "Content Writer                                                             27\n",
       "Data Entry/home Base Job/ Online Work/part Time Work/freelancer work       26\n",
       "Senior Software Engineer                                                   26\n",
       "Business Development Manager                                               25\n",
       "Software Engineer                                                          25\n",
       "Program Control Services                                                   24\n",
       "Senior Business Analyst                                                    23\n",
       "Quality Analyst                                                            23\n",
       "Analytics Manager                                                          22\n",
       "Data Engineer                                                              22\n",
       "Marketing Manager                                                          22\n",
       "HR Executive                                                               21\n",
       "Microsoft Modern Data Platform                                             19\n",
       "Associate Vice President - Fraud Analytics - SAS - Bank                    18\n",
       "Research Analyst                                                           18\n",
       "Python Developer                                                           17\n",
       "Financial Analyst                                                          17\n",
       "                                                                         ... \n",
       "Product Manager | Disruptive Digital Healthcare Platform | Bangalore        1\n",
       "CRM Marketing Manager - Deputy Manager                                      1\n",
       "Test Lead - Automation - (3-5 Years)                                        1\n",
       "Hadoop Administrator - Devops                                               1\n",
       "Area Sales Manager - MT | India's Fastest Growing food Brand                1\n",
       "Content Writer (freshers/ MBA/ Mcom/ Bcom/ BBA/ Journalism/ Mass Comm)      1\n",
       "Assistant Manager Treasury                                                  1\n",
       "Senior Manager - Insurance Analytics                                        1\n",
       "Data Governance- Analyst (bfsi Experience Must)                             1\n",
       "Excellent Opportunity For Fresher - International Voice(us Healthcare)      1\n",
       "Area  Manager                                                               1\n",
       "Software Test Engineer - Manual/automation Testing                          1\n",
       "Hiring for Quality Analyst @ HGS                                            1\n",
       "Application Management Expert - .Net                                        1\n",
       "System & Analytics Analyst (Report Writing)                                 1\n",
       "Require Marketing Executive for Grey Matters Group Chandigarh               1\n",
       "Asp.net Developer                                                           1\n",
       "Digital Marketing Analyst / Online Marketing                                1\n",
       "Director - Analytics | Hyderabad                                            1\n",
       "Compliance- Analytics  Professional                                         1\n",
       "System Engineer - Bangalore                                                 1\n",
       "Infrastructure Analyst                                                      1\n",
       "Immediate Opening for B2B Integration @ Bangalore Location                  1\n",
       "HPE Unified Functional Testing                                              1\n",
       "Engineering Manager - Java/ J2EE - IIT/ IIM/ Bits/ NIT                      1\n",
       "Regional Sales Manager - Brewery - West Zone                                1\n",
       "MSBI Senior Developer                                                       1\n",
       "Cyber risk - VAPT - Kochi Location                                          1\n",
       "NIIT is Hiring Freshers - Quality Auditor                                   1\n",
       "WALK - IN :: Automation Test Engineer                                       1\n",
       "Name: job_desig, Length: 11708, dtype: int64"
      ]
     },
     "execution_count": 18,
     "metadata": {},
     "output_type": "execute_result"
    }
   ],
   "source": [
    "train_data['job_desig'].value_counts()"
   ]
  },
  {
   "cell_type": "code",
   "execution_count": null,
   "metadata": {},
   "outputs": [],
   "source": []
  }
 ],
 "metadata": {
  "kernelspec": {
   "display_name": "Python 3",
   "language": "python",
   "name": "python3"
  },
  "language_info": {
   "codemirror_mode": {
    "name": "ipython",
    "version": 3
   },
   "file_extension": ".py",
   "mimetype": "text/x-python",
   "name": "python",
   "nbconvert_exporter": "python",
   "pygments_lexer": "ipython3",
   "version": "3.6.5"
  }
 },
 "nbformat": 4,
 "nbformat_minor": 2
}
