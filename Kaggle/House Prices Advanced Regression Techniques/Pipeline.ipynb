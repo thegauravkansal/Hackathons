{
 "cells": [
  {
   "cell_type": "code",
   "execution_count": 1,
   "metadata": {},
   "outputs": [],
   "source": [
    "import pandas as pd\n",
    "train_data = pd.read_csv('train.csv')\n",
    "test_data = pd.read_csv('test.csv')\n",
    "\n",
    "target=train_data.SalePrice\n",
    "\n",
    "# Drop houses where target is NA\n",
    "train_data.dropna(axis=0, subset=['SalePrice'], inplace=True)\n",
    "\n",
    "# Drop saleprice column\n",
    "predictors = train_data.drop(['SalePrice'],axis=1)\n",
    "\n",
    "# Find column with missing values\n",
    "columns_with_missing = [col for col in train_data.columns if train_data[col].isnull().any()]\n",
    "\n",
    "columns_with_missing_test = [col for col in test_data.columns if test_data[col].isnull().any()]\n",
    "\n",
    "train_predictors = train_data.drop(['Id','SalePrice'] + columns_with_missing, axis = 1)\n",
    "test_predictors = test_data.drop(['Id'] + columns_with_missing_test, axis = 1)\n",
    "\n",
    "# \"cardinality\" means the number of unique values in a column.\n",
    "# We use it as our only way to select categorical columns.\n",
    "\n",
    "cardinality_cols = [cname for cname in train_predictors.columns \n",
    "                    if train_predictors[cname].nunique()<10 and train_predictors[cname].dtype == \"object\"]\n",
    "\n",
    "numerical_cols = [cname for cname in train_predictors.columns \n",
    "                    if train_predictors[cname].dtype in ['int64', 'float64']]\n",
    "\n",
    "my_columns =cardinality_cols + numerical_cols\n",
    "\n",
    "cardinality_cols_test = [cname for cname in test_predictors.columns \n",
    "                    if test_predictors[cname].nunique()<10 and test_predictors[cname].dtype == \"object\"]\n",
    "\n",
    "numerical_cols_test = [cname for cname in test_predictors.columns \n",
    "                    if test_predictors[cname].dtype in ['int64', 'float64']]\n",
    "\n",
    "my_columns_test =cardinality_cols_test + numerical_cols_test\n",
    "\n",
    "training_predictors = train_predictors[my_columns]\n",
    "testing_predictors = test_predictors[my_columns_test]"
   ]
  },
  {
   "cell_type": "code",
   "execution_count": 2,
   "metadata": {},
   "outputs": [],
   "source": [
    "# Align command make sure the columns show up in the same order in both datasets (training_predictors, testing_predictors)\n",
    "one_hot_encoded_training_predictors = pd.get_dummies(training_predictors)\n",
    "one_hot_encoded_test_predictors = pd.get_dummies(testing_predictors)\n",
    "\n",
    "final_train, final_test = one_hot_encoded_training_predictors.align(one_hot_encoded_test_predictors,\n",
    "                                                                    join='inner', \n",
    "                                                                    axis=1)"
   ]
  },
  {
   "cell_type": "markdown",
   "metadata": {},
   "source": [
    "**We are using modelling process that uses an imputer to fill in missing values, followed by a RandomForestRegressor.**\n",
    "**These can be bundled together in pipeline**"
   ]
  },
  {
   "cell_type": "code",
   "execution_count": 15,
   "metadata": {},
   "outputs": [],
   "source": [
    "from sklearn.ensemble import RandomForestRegressor\n",
    "from sklearn.pipeline import make_pipeline\n",
    "from sklearn.preprocessing import Imputer\n",
    "\n",
    "my_pipeline = make_pipeline(Imputer(), RandomForestRegressor())"
   ]
  },
  {
   "cell_type": "code",
   "execution_count": 16,
   "metadata": {},
   "outputs": [],
   "source": [
    "my_pipeline.fit(final_train, target)\n",
    "predictions = my_pipeline.predict(final_test)"
   ]
  },
  {
   "cell_type": "code",
   "execution_count": 5,
   "metadata": {},
   "outputs": [],
   "source": [
    "my_submission = pd.DataFrame({'Id': test_data.Id, 'SalePrice': predictions})\n",
    "# you could use any filename. We choose submission here\n",
    "my_submission.to_csv('submission_pipeline.csv', index=False)"
   ]
  },
  {
   "cell_type": "markdown",
   "metadata": {},
   "source": [
    "**Cross Validation**"
   ]
  },
  {
   "cell_type": "code",
   "execution_count": 17,
   "metadata": {},
   "outputs": [
    {
     "name": "stdout",
     "output_type": "stream",
     "text": [
      "[-20101.31129363 -20007.02176591 -22654.40308642]\n"
     ]
    }
   ],
   "source": [
    "from sklearn.model_selection import cross_val_score\n",
    "scores = cross_val_score(my_pipeline, final_train, target, scoring='neg_mean_absolute_error')\n",
    "print(scores)"
   ]
  },
  {
   "cell_type": "code",
   "execution_count": 18,
   "metadata": {},
   "outputs": [
    {
     "name": "stdout",
     "output_type": "stream",
     "text": [
      "Mean Absolute Error 20920.912049\n"
     ]
    }
   ],
   "source": [
    "print('Mean Absolute Error %2f' %(-1 * scores.mean()))\n"
   ]
  },
  {
   "cell_type": "code",
   "execution_count": null,
   "metadata": {},
   "outputs": [],
   "source": []
  }
 ],
 "metadata": {
  "kernelspec": {
   "display_name": "Python 3",
   "language": "python",
   "name": "python3"
  },
  "language_info": {
   "codemirror_mode": {
    "name": "ipython",
    "version": 3
   },
   "file_extension": ".py",
   "mimetype": "text/x-python",
   "name": "python",
   "nbconvert_exporter": "python",
   "pygments_lexer": "ipython3",
   "version": "3.6.4"
  }
 },
 "nbformat": 4,
 "nbformat_minor": 2
}
