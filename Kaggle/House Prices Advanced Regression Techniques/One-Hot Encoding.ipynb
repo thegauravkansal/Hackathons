{
 "cells": [
  {
   "cell_type": "code",
   "execution_count": 131,
   "metadata": {},
   "outputs": [],
   "source": [
    "import pandas as pd\n",
    "train_data = pd.read_csv('train.csv')\n",
    "test_data = pd.read_csv('test.csv')\n",
    "\n",
    "target=train_data.SalePrice\n",
    "\n",
    "# Drop houses where target is NA\n",
    "train_data.dropna(axis=0, subset=['SalePrice'], inplace=True)\n",
    "\n",
    "# Drop saleprice column\n",
    "predictors = train_data.drop(['SalePrice'],axis=1)\n",
    "\n",
    "# Find column with missing values\n",
    "columns_with_missing = [col for col in train_data.columns if train_data[col].isnull().any()]\n",
    "\n",
    "columns_with_missing_test = [col for col in test_data.columns if test_data[col].isnull().any()]\n",
    "\n",
    "train_predictors = train_data.drop(['Id','SalePrice'] + columns_with_missing, axis = 1)\n",
    "test_predictors = test_data.drop(['Id'] + columns_with_missing_test, axis = 1)\n",
    "\n",
    "# \"cardinality\" means the number of unique values in a column.\n",
    "# We use it as our only way to select categorical columns.\n",
    "\n",
    "cardinality_cols = [cname for cname in train_predictors.columns \n",
    "                    if train_predictors[cname].nunique()<10 and train_predictors[cname].dtype == \"object\"]\n",
    "\n",
    "numerical_cols = [cname for cname in train_predictors.columns \n",
    "                    if train_predictors[cname].dtype in ['int64', 'float64']]\n",
    "\n",
    "my_columns =cardinality_cols + numerical_cols\n",
    "\n",
    "cardinality_cols_test = [cname for cname in test_predictors.columns \n",
    "                    if test_predictors[cname].nunique()<10 and test_predictors[cname].dtype == \"object\"]\n",
    "\n",
    "numerical_cols_test = [cname for cname in test_predictors.columns \n",
    "                    if test_predictors[cname].dtype in ['int64', 'float64']]\n",
    "\n",
    "my_columns_test =cardinality_cols_test + numerical_cols_test\n",
    "\n",
    "training_predictors = train_predictors[my_columns]\n",
    "testing_predictors = test_predictors[my_columns_test]\n"
   ]
  },
  {
   "cell_type": "code",
   "execution_count": 130,
   "metadata": {},
   "outputs": [
    {
     "name": "stdout",
     "output_type": "stream",
     "text": [
      "Mean Absolute Error when Dropping Categoricals: 18355\n",
      "Mean Abslute Error with One-Hot Encoding: 17899\n"
     ]
    }
   ],
   "source": [
    "from sklearn.model_selection import cross_val_score\n",
    "from sklearn.ensemble import RandomForestRegressor\n",
    "\n",
    "one_hot_encoded_training_predictors = pd.get_dummies(training_predictors)\n",
    "\n",
    "def get_mae(X, y):\n",
    "    # multiple by -1 to make positive MAE score instead of neg value returned as sklearn convention\n",
    "    return -1 * cross_val_score(RandomForestRegressor(50), \n",
    "                                X, y, \n",
    "                                scoring = 'neg_mean_absolute_error').mean()\n",
    "\n",
    "predictors_without_categoricals = training_predictors.select_dtypes(exclude=['object'])\n",
    "\n",
    "mae_without_categoricals = get_mae(predictors_without_categoricals, target)\n",
    "\n",
    "mae_one_hot_encoded = get_mae(one_hot_encoded_training_predictors, target)\n",
    "\n",
    "print('Mean Absolute Error when Dropping Categoricals: ' + str(int(mae_without_categoricals)))\n",
    "print('Mean Abslute Error with One-Hot Encoding: ' + str(int(mae_one_hot_encoded)))"
   ]
  },
  {
   "cell_type": "markdown",
   "metadata": {},
   "source": [
    "**Apply to Multiple Files**"
   ]
  },
  {
   "cell_type": "code",
   "execution_count": 132,
   "metadata": {},
   "outputs": [],
   "source": [
    "# Align command make sure the columns show up in the same order in both datasets (training_predictors, testing_predictors)\n",
    "one_hot_encoded_training_predictors = pd.get_dummies(training_predictors)\n",
    "one_hot_encoded_test_predictors = pd.get_dummies(testing_predictors)\n",
    "\n",
    "final_train, final_test = one_hot_encoded_training_predictors.align(one_hot_encoded_test_predictors,\n",
    "                                                                    join='inner', \n",
    "                                                                    axis=1)"
   ]
  },
  {
   "cell_type": "markdown",
   "metadata": {},
   "source": [
    "**Submission**"
   ]
  },
  {
   "cell_type": "code",
   "execution_count": 133,
   "metadata": {},
   "outputs": [
    {
     "name": "stdout",
     "output_type": "stream",
     "text": [
      "[133860. 150330. 171550. ... 135045. 134900. 235128.]\n"
     ]
    }
   ],
   "source": [
    "my_model = RandomForestRegressor()\n",
    "my_model.fit(final_train, target)\n",
    "\n",
    "predicted_prices = my_model.predict(final_test)\n",
    "# We will look at the predicted prices to ensure we have something sensible.\n",
    "print(predicted_prices)"
   ]
  },
  {
   "cell_type": "code",
   "execution_count": 134,
   "metadata": {},
   "outputs": [],
   "source": [
    "my_submission = pd.DataFrame({'Id': test_data.Id, 'SalePrice': predicted_prices})\n",
    "# you could use any filename. We choose submission here\n",
    "my_submission.to_csv('submission_ONE.csv', index=False)"
   ]
  },
  {
   "cell_type": "code",
   "execution_count": null,
   "metadata": {},
   "outputs": [],
   "source": []
  }
 ],
 "metadata": {
  "kernelspec": {
   "display_name": "Python 3",
   "language": "python",
   "name": "python3"
  },
  "language_info": {
   "codemirror_mode": {
    "name": "ipython",
    "version": 3
   },
   "file_extension": ".py",
   "mimetype": "text/x-python",
   "name": "python",
   "nbconvert_exporter": "python",
   "pygments_lexer": "ipython3",
   "version": "3.6.4"
  }
 },
 "nbformat": 4,
 "nbformat_minor": 2
}
